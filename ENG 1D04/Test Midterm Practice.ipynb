{
 "cells": [
  {
   "cell_type": "code",
   "execution_count": 1,
   "metadata": {},
   "outputs": [
    {
     "name": "stdout",
     "output_type": "stream",
     "text": [
      "904.7786842338603\n"
     ]
    }
   ],
   "source": [
    "import math\n",
    "r = 6\n",
    "x = 4/3 * math.pi * r**3\n",
    "print (x)"
   ]
  },
  {
   "cell_type": "code",
   "execution_count": 2,
   "metadata": {},
   "outputs": [
    {
     "name": "stdout",
     "output_type": "stream",
     "text": [
      "904.7786842338603\n"
     ]
    }
   ],
   "source": [
    "import math\n",
    "r = 6.0\n",
    "x = 4.0/3.0 * math.pi * r**3.0\n",
    "print (x)"
   ]
  },
  {
   "cell_type": "code",
   "execution_count": 3,
   "metadata": {},
   "outputs": [
    {
     "name": "stdout",
     "output_type": "stream",
     "text": [
      "spam ham eggs "
     ]
    }
   ],
   "source": [
    "for element in [\"spam\", \"ham\", \"eggs\"]:\n",
    "    print (element, end = ' ')"
   ]
  },
  {
   "cell_type": "code",
   "execution_count": 4,
   "metadata": {},
   "outputs": [
    {
     "name": "stdout",
     "output_type": "stream",
     "text": [
      "hi Bob\n",
      "hi Al\n",
      "hi Kris\n",
      "hi Jon\n"
     ]
    }
   ],
   "source": [
    "names = [ \"Bob\" , \"Al\" , \"Kris\" , \"Jon\" ]\n",
    "for name in names :\n",
    "     print( \"hi\" , name )"
   ]
  },
  {
   "cell_type": "code",
   "execution_count": 5,
   "metadata": {},
   "outputs": [
    {
     "name": "stdout",
     "output_type": "stream",
     "text": [
      "hi Bob\n",
      "hi Al\n",
      "hi Kris\n",
      "hi Jon\n"
     ]
    }
   ],
   "source": [
    "names = [ \"Bob\" , \"Al\" , \"Kris\" , \"Jon\" ]\n",
    "for i in range ( len(names) ) :\n",
    "    print ( \"hi\" , names [i] )"
   ]
  },
  {
   "cell_type": "code",
   "execution_count": 6,
   "metadata": {},
   "outputs": [
    {
     "name": "stdout",
     "output_type": "stream",
     "text": [
      "[0, 1, 2, 3, 4]\n"
     ]
    }
   ],
   "source": [
    "myList = []\n",
    "for element in range (5) :\n",
    "    myList.append(element)\n",
    "print (myList)"
   ]
  },
  {
   "cell_type": "code",
   "execution_count": 7,
   "metadata": {},
   "outputs": [
    {
     "name": "stdout",
     "output_type": "stream",
     "text": [
      "5525\n"
     ]
    }
   ],
   "source": [
    "total = 0\n",
    "layers = range(1,26)\n",
    "\n",
    "for currLayer in layers:\n",
    "    total = total + currLayer**2\n",
    "\n",
    "print (total)"
   ]
  },
  {
   "cell_type": "code",
   "execution_count": 8,
   "metadata": {},
   "outputs": [
    {
     "name": "stdout",
     "output_type": "stream",
     "text": [
      "The first 10 terms of Fibonacci sequence\n",
      "1 1 2 3 5 8 13 21 34 55 "
     ]
    }
   ],
   "source": [
    "#n = int(input(\"How many terms should be displayed?\"))\n",
    "n = 10\n",
    "print (\"The first\", n , \"terms of Fibonacci sequence\")\n",
    "\n",
    "secondLast = 1\n",
    "last = 1\n",
    "\n",
    "print(secondLast, end = \" \")\n",
    "print(last, end = \" \")\n",
    "\n",
    "for i in range(n-2):\n",
    "    current = last + secondLast\n",
    "    print(current, end = \" \")\n",
    "    secondLast = last\n",
    "    last = current"
   ]
  },
  {
   "cell_type": "code",
   "execution_count": 9,
   "metadata": {},
   "outputs": [
    {
     "name": "stdout",
     "output_type": "stream",
     "text": [
      "The first 10 terms of Fibonacci sequence\n",
      "[1, 1, 2, 3, 5, 8, 13, 21, 34, 55]\n"
     ]
    }
   ],
   "source": [
    "#n = int(input(\"How many terms should be displayed?\"))\n",
    "n = 10\n",
    "print (\"The first\", n , \"terms of Fibonacci sequence\")\n",
    "\n",
    "sequence = [1, 1]\n",
    "\n",
    "for i in range(n-2):\n",
    "    current = sequence[-1] + sequence[-2]\n",
    "    sequence.append(current)\n",
    "    \n",
    "print(sequence)"
   ]
  },
  {
   "cell_type": "code",
   "execution_count": 10,
   "metadata": {},
   "outputs": [
    {
     "name": "stdout",
     "output_type": "stream",
     "text": [
      "[15, 7, 3, 20]\n"
     ]
    }
   ],
   "source": [
    "myList = [1,15,7,3,20,9,4,35,13,45,2]\n",
    "print(myList[1:5]) #slicing"
   ]
  },
  {
   "cell_type": "code",
   "execution_count": 11,
   "metadata": {},
   "outputs": [
    {
     "name": "stdout",
     "output_type": "stream",
     "text": [
      "1\n"
     ]
    }
   ],
   "source": [
    "print(myList.index(15))"
   ]
  },
  {
   "cell_type": "code",
   "execution_count": 12,
   "metadata": {},
   "outputs": [
    {
     "name": "stdout",
     "output_type": "stream",
     "text": [
      "[1, 2, 3, 4, 7, 9, 13, 15, 20, 35, 45]\n"
     ]
    }
   ],
   "source": [
    "myList.sort()\n",
    "print(myList)"
   ]
  },
  {
   "cell_type": "code",
   "execution_count": 13,
   "metadata": {},
   "outputs": [
    {
     "name": "stdout",
     "output_type": "stream",
     "text": [
      "Utsharga Rozario. I study in McMaster University.\n",
      "My name is \n",
      "My name is Utsharga Rozario. I study in McMaster University.\n",
      "Utsharga\n"
     ]
    }
   ],
   "source": [
    "myString = \"My name is Utsharga Rozario. I study in McMaster University.\"\n",
    "print(myString[11:])\n",
    "print(myString[:11])\n",
    "print(myString[:])\n",
    "print(myString[11:19])"
   ]
  },
  {
   "cell_type": "code",
   "execution_count": 14,
   "metadata": {},
   "outputs": [
    {
     "name": "stdout",
     "output_type": "stream",
     "text": [
      "['c', 'a', 't']\n",
      "['p', 'a', 't']\n",
      "pat\n"
     ]
    }
   ],
   "source": [
    "my_string = \"cat\"\n",
    "my_list = list(my_string)\n",
    "print(my_list)\n",
    "\n",
    "my_list[0] = \"p\"\n",
    "print(my_list)\n",
    "\n",
    "print(\"\".join(my_list))"
   ]
  },
  {
   "cell_type": "code",
   "execution_count": 15,
   "metadata": {},
   "outputs": [],
   "source": [
    "# Operations on strings:\n",
    "# +: addition (concatenation)\n",
    "# *: scalar multiplication (repetition)\n",
    "# len(myStr): get the length.\n",
    "# myStr[i]: get the ith member.\n",
    "# myStr[i:j]: slice from i up to, but not including j.\n",
    "# myStr.index(<item>): get the index of <item> if <item> is in myStr."
   ]
  },
  {
   "cell_type": "code",
   "execution_count": 16,
   "metadata": {},
   "outputs": [
    {
     "name": "stdout",
     "output_type": "stream",
     "text": [
      "True\n",
      "False\n",
      "3\n",
      "-1\n",
      "6\n"
     ]
    }
   ],
   "source": [
    "s = \"Welcome to Python\"\n",
    "print(s.startswith(\"Wel\"))\n",
    "print(s.endswith(\"then\"))\n",
    "print(s.find(\"come\"))\n",
    "print(s.find(\"become\"))\n",
    "print(s.rfind(\"e\"))"
   ]
  },
  {
   "cell_type": "code",
   "execution_count": 17,
   "metadata": {},
   "outputs": [
    {
     "data": {
      "text/plain": [
       "'0b10001'"
      ]
     },
     "execution_count": 17,
     "metadata": {},
     "output_type": "execute_result"
    }
   ],
   "source": [
    "bin(0x11)"
   ]
  },
  {
   "cell_type": "code",
   "execution_count": 18,
   "metadata": {},
   "outputs": [
    {
     "data": {
      "text/plain": [
       "'0o21'"
      ]
     },
     "execution_count": 18,
     "metadata": {},
     "output_type": "execute_result"
    }
   ],
   "source": [
    "oct(17)"
   ]
  },
  {
   "cell_type": "code",
   "execution_count": 19,
   "metadata": {},
   "outputs": [
    {
     "data": {
      "text/plain": [
       "'0x11'"
      ]
     },
     "execution_count": 19,
     "metadata": {},
     "output_type": "execute_result"
    }
   ],
   "source": [
    "hex(17)"
   ]
  },
  {
   "cell_type": "code",
   "execution_count": 20,
   "metadata": {},
   "outputs": [
    {
     "data": {
      "text/plain": [
       "'0b10001'"
      ]
     },
     "execution_count": 20,
     "metadata": {},
     "output_type": "execute_result"
    }
   ],
   "source": [
    "bin(17)"
   ]
  },
  {
   "cell_type": "code",
   "execution_count": 21,
   "metadata": {},
   "outputs": [
    {
     "data": {
      "text/plain": [
       "'0xeb'"
      ]
     },
     "execution_count": 21,
     "metadata": {},
     "output_type": "execute_result"
    }
   ],
   "source": [
    "hex(0b11101011)"
   ]
  },
  {
   "cell_type": "code",
   "execution_count": 22,
   "metadata": {},
   "outputs": [
    {
     "data": {
      "text/plain": [
       "[]"
      ]
     },
     "execution_count": 22,
     "metadata": {},
     "output_type": "execute_result"
    }
   ],
   "source": [
    "list(range(20,10))"
   ]
  },
  {
   "cell_type": "code",
   "execution_count": 23,
   "metadata": {},
   "outputs": [
    {
     "name": "stdout",
     "output_type": "stream",
     "text": [
      "[2, 4, 5, 7, 4, 10, 12, 26]\n"
     ]
    },
    {
     "data": {
      "text/plain": [
       "[2, 4]"
      ]
     },
     "execution_count": 23,
     "metadata": {},
     "output_type": "execute_result"
    }
   ],
   "source": [
    "listA = [2,4,5,7]\n",
    "listB = [4,10,12,26]\n",
    "listC = listA + listB\n",
    "print(listC)\n",
    "listA[0:2]"
   ]
  },
  {
   "cell_type": "code",
   "execution_count": 24,
   "metadata": {},
   "outputs": [
    {
     "name": "stdout",
     "output_type": "stream",
     "text": [
      "[[[['a'], 'b'], 'c']]\n"
     ]
    }
   ],
   "source": [
    "s = []\n",
    "for i in 'abc':\n",
    "    #s = s + [i]\n",
    "    #s = [s] + [i]\n",
    "    #s = [s,i]\n",
    "    s = [s + [i]]\n",
    "print(s)"
   ]
  },
  {
   "cell_type": "code",
   "execution_count": 5,
   "metadata": {},
   "outputs": [
    {
     "name": "stdout",
     "output_type": "stream",
     "text": [
      "[Rectangle(Point(0.0, 0.0), Point(10.0, 10.0)), Rectangle(Point(10.0, 10.0), Point(20.0, 20.0)), Rectangle(Point(20.0, 20.0), Point(30.0, 30.0)), Rectangle(Point(30.0, 30.0), Point(40.0, 40.0)), Rectangle(Point(40.0, 40.0), Point(50.0, 50.0)), Rectangle(Point(50.0, 50.0), Point(60.0, 60.0)), Rectangle(Point(60.0, 60.0), Point(70.0, 70.0)), Rectangle(Point(70.0, 70.0), Point(80.0, 80.0)), Rectangle(Point(80.0, 80.0), Point(90.0, 90.0)), Rectangle(Point(90.0, 90.0), Point(100.0, 100.0))]\n"
     ]
    }
   ],
   "source": [
    "import graphics\n",
    "from graphics import *\n",
    "win = GraphWin(\"blondings\", 500 ,500)\n",
    "win.setCoords (0 ,0 ,100 ,100)\n",
    "x = []\n",
    "for i in range (10) :\n",
    "    r = Rectangle(Point(i*10,i *10),Point((i+1)*10,(i+1)*10))\n",
    "    r.setFill(\"blue\")\n",
    "    r.draw(win)\n",
    "    x = x + [r]\n",
    "print(x)\n",
    "for i in [2 ,3 ,6 ,7]:\n",
    "    x[i].undraw()"
   ]
  },
  {
   "cell_type": "code",
   "execution_count": 26,
   "metadata": {},
   "outputs": [
    {
     "name": "stdout",
     "output_type": "stream",
     "text": [
      "This program prints a string.\n",
      "This program \n",
      "prints a string.\n",
      "\tThis program prints a string.\n"
     ]
    }
   ],
   "source": [
    "print(\"This program prints a string.\")\n",
    "print(\"This program \\nprints a string.\")\n",
    "print(\"\\tThis program prints a string.\")"
   ]
  },
  {
   "cell_type": "code",
   "execution_count": 27,
   "metadata": {},
   "outputs": [],
   "source": [
    "import random\n",
    "\n",
    "infile = open(\"Grade_file.txt\", \"w\")\n",
    "\n",
    "for i in range(800):\n",
    "    grade = random.randint(0,12)\n",
    "    infile.write(str(grade) + \"\\n\")\n",
    "\n",
    "infile.close()"
   ]
  },
  {
   "cell_type": "code",
   "execution_count": 4,
   "metadata": {},
   "outputs": [
    {
     "name": "stdout",
     "output_type": "stream",
     "text": [
      "1\n",
      "9\n",
      "2\n",
      "10\n",
      "0\n",
      "10\n",
      "11\n",
      "11\n",
      "7\n",
      "5\n",
      "10\n",
      "2\n",
      "4\n",
      "2\n",
      "10\n",
      "8\n",
      "2\n",
      "5\n",
      "11\n",
      "8\n",
      "7\n",
      "11\n",
      "3\n",
      "6\n",
      "0\n",
      "11\n",
      "1\n",
      "2\n",
      "6\n",
      "2\n",
      "3\n",
      "4\n",
      "7\n",
      "12\n",
      "11\n",
      "5\n",
      "6\n",
      "2\n",
      "6\n",
      "8\n",
      "2\n",
      "1\n",
      "1\n",
      "1\n",
      "1\n",
      "10\n",
      "11\n",
      "2\n",
      "12\n",
      "2\n",
      "3\n",
      "10\n",
      "8\n",
      "6\n",
      "7\n",
      "0\n",
      "9\n",
      "6\n",
      "4\n",
      "10\n",
      "0\n",
      "7\n",
      "0\n",
      "9\n",
      "2\n",
      "12\n",
      "3\n",
      "7\n",
      "7\n",
      "7\n",
      "10\n",
      "10\n",
      "10\n",
      "10\n",
      "11\n",
      "3\n",
      "6\n",
      "9\n",
      "10\n",
      "7\n",
      "8\n",
      "12\n",
      "12\n",
      "9\n",
      "4\n",
      "3\n",
      "1\n",
      "5\n",
      "0\n",
      "8\n",
      "7\n",
      "2\n",
      "1\n",
      "5\n",
      "12\n",
      "7\n",
      "9\n",
      "1\n",
      "10\n",
      "9\n",
      "1\n",
      "12\n",
      "9\n",
      "2\n",
      "3\n",
      "3\n",
      "1\n",
      "3\n",
      "4\n",
      "8\n",
      "6\n",
      "12\n",
      "1\n",
      "8\n",
      "6\n",
      "11\n",
      "6\n",
      "9\n",
      "11\n",
      "8\n",
      "4\n",
      "12\n",
      "7\n",
      "2\n",
      "12\n",
      "12\n",
      "7\n",
      "10\n",
      "12\n",
      "6\n",
      "1\n",
      "3\n",
      "1\n",
      "12\n",
      "2\n",
      "4\n",
      "1\n",
      "8\n",
      "8\n",
      "12\n",
      "6\n",
      "7\n",
      "8\n",
      "2\n",
      "12\n",
      "9\n",
      "5\n",
      "7\n",
      "8\n",
      "9\n",
      "11\n",
      "3\n",
      "7\n",
      "12\n",
      "4\n",
      "5\n",
      "0\n",
      "0\n",
      "7\n",
      "2\n",
      "2\n",
      "6\n",
      "0\n",
      "4\n",
      "9\n",
      "6\n",
      "1\n",
      "3\n",
      "11\n",
      "7\n",
      "3\n",
      "12\n",
      "12\n",
      "3\n",
      "8\n",
      "1\n",
      "12\n",
      "3\n",
      "8\n",
      "0\n",
      "3\n",
      "12\n",
      "6\n",
      "11\n",
      "10\n",
      "4\n",
      "2\n",
      "5\n",
      "2\n",
      "10\n",
      "10\n",
      "8\n",
      "3\n",
      "1\n",
      "8\n",
      "12\n",
      "6\n",
      "10\n",
      "12\n",
      "4\n",
      "1\n",
      "4\n",
      "1\n",
      "6\n",
      "9\n",
      "3\n",
      "4\n",
      "7\n",
      "8\n",
      "0\n",
      "12\n",
      "4\n",
      "11\n",
      "1\n",
      "7\n",
      "0\n",
      "0\n",
      "10\n",
      "5\n",
      "0\n",
      "3\n",
      "2\n",
      "6\n",
      "11\n",
      "5\n",
      "9\n",
      "8\n",
      "7\n",
      "12\n",
      "5\n",
      "11\n",
      "12\n",
      "1\n",
      "11\n",
      "1\n",
      "9\n",
      "9\n",
      "4\n",
      "1\n",
      "1\n",
      "4\n",
      "10\n",
      "9\n",
      "3\n",
      "6\n",
      "2\n",
      "9\n",
      "7\n",
      "0\n",
      "1\n",
      "5\n",
      "5\n",
      "4\n",
      "8\n",
      "9\n",
      "4\n",
      "9\n",
      "3\n",
      "12\n",
      "11\n",
      "7\n",
      "10\n",
      "5\n",
      "8\n",
      "6\n",
      "5\n",
      "4\n",
      "12\n",
      "11\n",
      "11\n",
      "7\n",
      "8\n",
      "12\n",
      "2\n",
      "1\n",
      "11\n",
      "2\n",
      "12\n",
      "7\n",
      "9\n",
      "11\n",
      "5\n",
      "9\n",
      "2\n",
      "7\n",
      "2\n",
      "7\n",
      "4\n",
      "3\n",
      "2\n",
      "3\n",
      "9\n",
      "7\n",
      "7\n",
      "5\n",
      "9\n",
      "4\n",
      "10\n",
      "11\n",
      "0\n",
      "7\n",
      "2\n",
      "8\n",
      "8\n",
      "10\n",
      "4\n",
      "2\n",
      "8\n",
      "0\n",
      "12\n",
      "12\n",
      "9\n",
      "0\n",
      "4\n",
      "6\n",
      "9\n",
      "7\n",
      "6\n",
      "8\n",
      "10\n",
      "7\n",
      "7\n",
      "5\n",
      "2\n",
      "1\n",
      "1\n",
      "7\n",
      "6\n",
      "7\n",
      "6\n",
      "8\n",
      "3\n",
      "1\n",
      "6\n",
      "7\n",
      "12\n",
      "1\n",
      "7\n",
      "6\n",
      "2\n",
      "9\n",
      "3\n",
      "6\n",
      "0\n",
      "9\n",
      "5\n",
      "0\n",
      "4\n",
      "3\n",
      "0\n",
      "7\n",
      "12\n",
      "5\n",
      "2\n",
      "4\n",
      "10\n",
      "7\n",
      "4\n",
      "1\n",
      "9\n",
      "6\n",
      "9\n",
      "5\n",
      "10\n",
      "0\n",
      "10\n",
      "1\n",
      "3\n",
      "1\n",
      "12\n",
      "9\n",
      "8\n",
      "10\n",
      "8\n",
      "10\n",
      "7\n",
      "12\n",
      "10\n",
      "6\n",
      "10\n",
      "9\n",
      "10\n",
      "2\n",
      "5\n",
      "7\n",
      "9\n",
      "5\n",
      "1\n",
      "4\n",
      "9\n",
      "8\n",
      "12\n",
      "8\n",
      "1\n",
      "2\n",
      "12\n",
      "6\n",
      "10\n",
      "1\n",
      "10\n",
      "0\n",
      "3\n",
      "4\n",
      "11\n",
      "8\n",
      "12\n",
      "0\n",
      "6\n",
      "10\n",
      "11\n",
      "0\n",
      "12\n",
      "1\n",
      "7\n",
      "5\n",
      "7\n",
      "0\n",
      "0\n",
      "7\n",
      "1\n",
      "12\n",
      "8\n",
      "5\n",
      "3\n",
      "6\n",
      "2\n",
      "5\n",
      "4\n",
      "2\n",
      "7\n",
      "9\n",
      "1\n",
      "7\n",
      "2\n",
      "9\n",
      "7\n",
      "8\n",
      "10\n",
      "0\n",
      "4\n",
      "9\n",
      "5\n",
      "11\n",
      "9\n",
      "6\n",
      "12\n",
      "3\n",
      "10\n",
      "1\n",
      "2\n",
      "8\n",
      "10\n",
      "9\n",
      "6\n",
      "4\n",
      "7\n",
      "5\n",
      "11\n",
      "5\n",
      "1\n",
      "4\n",
      "0\n",
      "0\n",
      "6\n",
      "8\n",
      "5\n",
      "11\n",
      "7\n",
      "7\n",
      "1\n",
      "6\n",
      "1\n",
      "6\n",
      "0\n",
      "12\n",
      "6\n",
      "5\n",
      "1\n",
      "11\n",
      "1\n",
      "5\n",
      "9\n",
      "1\n",
      "9\n",
      "8\n",
      "4\n",
      "11\n",
      "4\n",
      "11\n",
      "5\n",
      "10\n",
      "10\n",
      "9\n",
      "3\n",
      "11\n",
      "10\n",
      "7\n",
      "8\n",
      "5\n",
      "6\n",
      "0\n",
      "10\n",
      "0\n",
      "12\n",
      "2\n",
      "4\n",
      "8\n",
      "10\n",
      "12\n",
      "6\n",
      "6\n",
      "10\n",
      "10\n",
      "1\n",
      "5\n",
      "4\n",
      "10\n",
      "3\n",
      "11\n",
      "2\n",
      "0\n",
      "5\n",
      "4\n",
      "11\n",
      "2\n",
      "2\n",
      "3\n",
      "10\n",
      "8\n",
      "6\n",
      "9\n",
      "7\n",
      "10\n",
      "8\n",
      "9\n",
      "7\n",
      "12\n",
      "4\n",
      "9\n",
      "2\n",
      "6\n",
      "11\n",
      "3\n",
      "9\n",
      "10\n",
      "4\n",
      "12\n",
      "7\n",
      "5\n",
      "2\n",
      "0\n",
      "10\n",
      "2\n",
      "7\n",
      "9\n",
      "0\n",
      "6\n",
      "1\n",
      "0\n",
      "3\n",
      "3\n",
      "5\n",
      "7\n",
      "0\n",
      "10\n",
      "2\n",
      "6\n",
      "8\n",
      "0\n",
      "11\n",
      "0\n",
      "12\n",
      "7\n",
      "7\n",
      "8\n",
      "12\n",
      "6\n",
      "8\n",
      "3\n",
      "3\n",
      "11\n",
      "1\n",
      "3\n",
      "11\n",
      "0\n",
      "5\n",
      "7\n",
      "10\n",
      "11\n",
      "6\n",
      "6\n",
      "10\n",
      "2\n",
      "2\n",
      "12\n",
      "2\n",
      "12\n",
      "8\n",
      "4\n",
      "10\n",
      "8\n",
      "3\n",
      "11\n",
      "3\n",
      "12\n",
      "5\n",
      "6\n",
      "9\n",
      "1\n",
      "10\n",
      "11\n",
      "4\n",
      "6\n",
      "0\n",
      "7\n",
      "9\n",
      "7\n",
      "12\n",
      "6\n",
      "7\n",
      "4\n",
      "6\n",
      "4\n",
      "12\n",
      "5\n",
      "9\n",
      "0\n",
      "9\n",
      "4\n",
      "1\n",
      "8\n",
      "10\n",
      "12\n",
      "9\n",
      "10\n",
      "3\n",
      "8\n",
      "2\n",
      "5\n",
      "3\n",
      "3\n",
      "3\n",
      "1\n",
      "0\n",
      "9\n",
      "4\n",
      "9\n",
      "11\n",
      "1\n",
      "5\n",
      "12\n",
      "8\n",
      "6\n",
      "1\n",
      "10\n",
      "11\n",
      "9\n",
      "4\n",
      "0\n",
      "2\n",
      "5\n",
      "8\n",
      "4\n",
      "4\n",
      "10\n",
      "5\n",
      "8\n",
      "3\n",
      "4\n",
      "4\n",
      "5\n",
      "6\n",
      "1\n",
      "7\n",
      "7\n",
      "4\n",
      "7\n",
      "10\n",
      "7\n",
      "12\n",
      "9\n",
      "2\n",
      "4\n",
      "9\n",
      "4\n",
      "7\n",
      "5\n",
      "10\n",
      "0\n",
      "6\n",
      "2\n",
      "8\n",
      "3\n",
      "7\n",
      "5\n",
      "5\n",
      "5\n",
      "8\n",
      "1\n",
      "9\n",
      "5\n",
      "8\n",
      "7\n",
      "11\n",
      "11\n",
      "4\n",
      "6\n",
      "6\n",
      "11\n",
      "8\n",
      "3\n",
      "1\n",
      "12\n",
      "4\n",
      "1\n",
      "10\n",
      "7\n",
      "8\n",
      "7\n",
      "12\n",
      "12\n",
      "6\n",
      "2\n",
      "6\n",
      "4\n",
      "2\n",
      "3\n",
      "12\n",
      "11\n",
      "3\n",
      "12\n",
      "10\n",
      "7\n",
      "7\n",
      "11\n",
      "12\n",
      "0\n",
      "8\n",
      "6\n",
      "12\n",
      "9\n",
      "11\n",
      "5\n",
      "1\n",
      "10\n",
      "12\n",
      "0\n",
      "2\n",
      "8\n",
      "4\n",
      "12\n",
      "12\n",
      "7\n",
      "11\n",
      "11\n",
      "0\n",
      "0\n",
      "8\n",
      "1\n",
      "5\n",
      "7\n",
      "12\n",
      "6\n",
      "6\n",
      "3\n",
      "5\n",
      "5\n",
      "10\n",
      "1\n",
      "2\n",
      "0\n",
      "2\n",
      "5\n",
      "11\n",
      "9\n",
      "6\n",
      "0\n",
      "1\n",
      "9\n",
      "4\n",
      "2\n",
      "9\n",
      "2\n",
      "8\n",
      "11\n",
      "12\n",
      "2\n",
      "4\n",
      "6\n",
      "6\n",
      "5\n",
      "7\n",
      "11\n",
      "4\n",
      "1\n",
      "12\n",
      "0\n",
      "0\n",
      "11\n",
      "11\n",
      "\n",
      "-------\n",
      "\n",
      "\n"
     ]
    }
   ],
   "source": [
    "outfile = open(\"Grade_file.txt\", \"r\")\n",
    "\n",
    "content = outfile.read()\n",
    "x4 = content[1]\n",
    "print(content)\n",
    "print(\"-------\")\n",
    "print(x4)\n",
    "outfile.close()"
   ]
  },
  {
   "cell_type": "code",
   "execution_count": 29,
   "metadata": {},
   "outputs": [
    {
     "name": "stdout",
     "output_type": "stream",
     "text": [
      "[54, 64, 61, 51, 60, 57, 65, 76, 60, 62, 65, 56, 69]\n"
     ]
    }
   ],
   "source": [
    "outfile = open(\"Grade_file.txt\", \"r\")\n",
    "grade_points = [0]*13\n",
    "\n",
    "for line in outfile:\n",
    "    grade = int(line)\n",
    "    grade_points[grade] = grade_points[grade] + 1\n",
    "\n",
    "outfile.close()\n",
    "\n",
    "print(grade_points)"
   ]
  },
  {
   "cell_type": "code",
   "execution_count": 33,
   "metadata": {},
   "outputs": [
    {
     "data": {
      "image/png": "[encoded data removed]",
      "text/plain": [
       "<Figure size 432x288 with 1 Axes>"
      ]
     },
     "metadata": {},
     "output_type": "display_data"
    }
   ],
   "source": [
    "import pylab\n",
    "\n",
    "x = range(13)\n",
    "y = grade_points\n",
    "\n",
    "pylab.bar(x,y)\n",
    "\n",
    "pylab.show()"
   ]
  },
  {
   "cell_type": "code",
   "execution_count": 31,
   "metadata": {},
   "outputs": [],
   "source": [
    "# import graphics\n",
    "# myWindow = graphics.GraphWin(\"A line\")\n",
    "# a = graphics.Point(20,30)\n",
    "# b = graphics.Point(180,170)\n",
    "# myLine = graphics.Line(a,b)\n",
    "# myLine.draw(myWindow)"
   ]
  },
  {
   "cell_type": "code",
   "execution_count": 32,
   "metadata": {},
   "outputs": [],
   "source": [
    "# from graphics import *\n",
    "# win = GraphWin()\n",
    "# win.setCoords(0.0, 0.0, 10.0, 10.0)\n",
    "# c1 = Circle(Point(3,5),3)\n",
    "# c1.setFill('red')\n",
    "# c2 = c1\n",
    "# c2.setFill('blue')\n",
    "# c2.move(4,0)\n",
    "# c1.draw(win)\n",
    "# c2.draw(win)"
   ]
  },
  {
   "cell_type": "code",
   "execution_count": 2,
   "metadata": {},
   "outputs": [
    {
     "name": "stdout",
     "output_type": "stream",
     "text": [
      "0\n"
     ]
    }
   ],
   "source": [
    "outfile = open(\"Sample_Test_File.txt\", \"w\")\n",
    "\n",
    "#sampleString = \"my name is my Utsharga Rozario. my hobby is to write my own songs. I love me and my self. my sister's name is my\"\n",
    "#sampleString = \"I am Utsharga. I love our mom. I love playing.\"\n",
    "sampleString = \"\"\n",
    "outfile.write(sampleString)\n",
    "\n",
    "outfile.close()\n",
    "\n",
    "infile = open(\"Sample_Test_File.txt\", \"r\")\n",
    "count = 0\n",
    "for line in infile:\n",
    "    count = count + len(line.split(\"my\"))\n",
    "    #listCount = line.split(\"my\")\n",
    "print (count)\n",
    "#print (listCount)"
   ]
  },
  {
   "cell_type": "code",
   "execution_count": 3,
   "metadata": {},
   "outputs": [
    {
     "ename": "TypeError",
     "evalue": "'str' object does not support item assignment",
     "output_type": "error",
     "traceback": [
      "\u001b[1;31m---------------------------------------------------------------------------\u001b[0m",
      "\u001b[1;31mTypeError\u001b[0m                                 Traceback (most recent call last)",
      "\u001b[1;32m<ipython-input-3-af8f210dd912>\u001b[0m in \u001b[0;36m<module>\u001b[1;34m()\u001b[0m\n\u001b[0;32m      2\u001b[0m \u001b[0msample3\u001b[0m \u001b[1;33m=\u001b[0m \u001b[1;34m\"                          \"\u001b[0m\u001b[1;33m\u001b[0m\u001b[0m\n\u001b[0;32m      3\u001b[0m \u001b[1;32mfor\u001b[0m \u001b[0mi\u001b[0m \u001b[1;32min\u001b[0m \u001b[0mrange\u001b[0m\u001b[1;33m(\u001b[0m\u001b[1;36m6\u001b[0m\u001b[1;33m,\u001b[0m\u001b[1;36m10\u001b[0m\u001b[1;33m)\u001b[0m\u001b[1;33m:\u001b[0m\u001b[1;33m\u001b[0m\u001b[0m\n\u001b[1;32m----> 4\u001b[1;33m     \u001b[0msample2\u001b[0m\u001b[1;33m[\u001b[0m\u001b[0mi\u001b[0m\u001b[1;33m]\u001b[0m \u001b[1;33m=\u001b[0m \u001b[0msample3\u001b[0m\u001b[1;33m[\u001b[0m\u001b[0mi\u001b[0m\u001b[1;33m]\u001b[0m\u001b[1;33m\u001b[0m\u001b[0m\n\u001b[0m\u001b[0;32m      5\u001b[0m     \u001b[0mprint\u001b[0m\u001b[1;33m(\u001b[0m\u001b[0msample3\u001b[0m\u001b[1;33m[\u001b[0m\u001b[0mi\u001b[0m\u001b[1;33m]\u001b[0m\u001b[1;33m)\u001b[0m\u001b[1;33m\u001b[0m\u001b[0m\n\u001b[0;32m      6\u001b[0m \u001b[1;33m\u001b[0m\u001b[0m\n",
      "\u001b[1;31mTypeError\u001b[0m: 'str' object does not support item assignment"
     ]
    }
   ],
   "source": [
    "sample2 = \"Dogs are my favourite pet.\"\n",
    "sample3 = \"                          \"\n",
    "for i in range(6,10):\n",
    "    sample2[i] = sample3[i]\n",
    "    print(sample3[i])\n",
    "\n",
    "print(sample3)"
   ]
  },
  {
   "cell_type": "code",
   "execution_count": 51,
   "metadata": {},
   "outputs": [
    {
     "name": "stdout",
     "output_type": "stream",
     "text": [
      "a\n"
     ]
    }
   ],
   "source": [
    "print(sample2[5])"
   ]
  },
  {
   "cell_type": "code",
   "execution_count": 52,
   "metadata": {},
   "outputs": [
    {
     "data": {
      "text/plain": [
       "0.25"
      ]
     },
     "execution_count": 52,
     "metadata": {},
     "output_type": "execute_result"
    }
   ],
   "source": [
    "float(1/4)"
   ]
  },
  {
   "cell_type": "code",
   "execution_count": 3,
   "metadata": {},
   "outputs": [
    {
     "name": "stdout",
     "output_type": "stream",
     "text": [
      "2.0\n"
     ]
    }
   ],
   "source": [
    "print(4/2)"
   ]
  },
  {
   "cell_type": "code",
   "execution_count": 10,
   "metadata": {},
   "outputs": [
    {
     "name": "stdout",
     "output_type": "stream",
     "text": [
      "[[[[[0], 0], 0], 0]]\n",
      "[[[[[], 0], 0], 0], 0]\n"
     ]
    }
   ],
   "source": [
    "x1 =[]\n",
    "x2 =[]\n",
    "for i in range(4):\n",
    "    #x1 = [[], x1]\n",
    "    x1 = [x1 + [0]]\n",
    "    x2 = [x2 , 0]\n",
    "print (x1)\n",
    "print (x2)"
   ]
  },
  {
   "cell_type": "code",
   "execution_count": 14,
   "metadata": {},
   "outputs": [
    {
     "name": "stdout",
     "output_type": "stream",
     "text": [
      "One Ring to rule them all,\n",
      "\n",
      "---\n",
      "One Ring to find them.\n"
     ]
    }
   ],
   "source": [
    "outfile = open(\"LOTR.txt\", \"w\")\n",
    "\n",
    "sampleString = \"One Ring to rule them all,\\nOne Ring to find them.\"\n",
    "outfile.write(sampleString)\n",
    "\n",
    "outfile.close()\n",
    "\n",
    "f = open (\"LOTR.txt\",\"r\")\n",
    "x = f.readline()\n",
    "y = f.readline()\n",
    "\n",
    "print (x)\n",
    "print(\"---\")\n",
    "print (y)\n",
    "\n",
    "f.close()"
   ]
  },
  {
   "cell_type": "code",
   "execution_count": 2,
   "metadata": {},
   "outputs": [
    {
     "data": {
      "text/plain": [
       "'22'"
      ]
     },
     "execution_count": 2,
     "metadata": {},
     "output_type": "execute_result"
    }
   ],
   "source": [
    "2*\"2\""
   ]
  },
  {
   "cell_type": "code",
   "execution_count": 6,
   "metadata": {},
   "outputs": [
    {
     "data": {
      "text/plain": [
       "int"
      ]
     },
     "execution_count": 6,
     "metadata": {},
     "output_type": "execute_result"
    }
   ],
   "source": [
    "type(2*9)"
   ]
  },
  {
   "cell_type": "code",
   "execution_count": 6,
   "metadata": {},
   "outputs": [
    {
     "name": "stdout",
     "output_type": "stream",
     "text": [
      "0\n"
     ]
    }
   ],
   "source": [
    "x = list(range(-1,-5))\n",
    "u = 0\n",
    "for i in range(2,2):\n",
    "    u = u + 1\n",
    "print (u)\n"
   ]
  },
  {
   "cell_type": "code",
   "execution_count": 2,
   "metadata": {},
   "outputs": [
    {
     "data": {
      "text/plain": [
       "[[[], []]]"
      ]
     },
     "execution_count": 2,
     "metadata": {},
     "output_type": "execute_result"
    }
   ],
   "source": [
    "[[[],[]] + []]+ []"
   ]
  },
  {
   "cell_type": "code",
   "execution_count": 5,
   "metadata": {},
   "outputs": [
    {
     "name": "stdout",
     "output_type": "stream",
     "text": [
      "[['a']]\n",
      "[[['a'], 'b']]\n",
      "[[[['a'], 'b'], 'c']]\n",
      "[[[['a'], 'b'], 'c']]\n"
     ]
    }
   ],
   "source": [
    "s = []\n",
    "for i in 'abc':\n",
    "    s = [s + [i]]\n",
    "    print (s)\n",
    "    \n",
    "print (s)"
   ]
  },
  {
   "cell_type": "code",
   "execution_count": 7,
   "metadata": {},
   "outputs": [
    {
     "data": {
      "text/plain": [
       "[['a'], 'b']"
      ]
     },
     "execution_count": 7,
     "metadata": {},
     "output_type": "execute_result"
    }
   ],
   "source": [
    "[['a']] + ['b']"
   ]
  },
  {
   "cell_type": "code",
   "execution_count": 9,
   "metadata": {},
   "outputs": [
    {
     "name": "stdout",
     "output_type": "stream",
     "text": [
      "[[]]\n",
      "[[[], []]]\n",
      "[[[[], []], [[], []]]]\n",
      "[[[[], []], [[], []]]]\n"
     ]
    }
   ],
   "source": [
    "x = []\n",
    "for i in range(3):\n",
    "    x = [x + x]\n",
    "    print(x)\n",
    "    \n",
    "print (x)"
   ]
  },
  {
   "cell_type": "code",
   "execution_count": 10,
   "metadata": {},
   "outputs": [
    {
     "data": {
      "text/plain": [
       "[]"
      ]
     },
     "execution_count": 10,
     "metadata": {},
     "output_type": "execute_result"
    }
   ],
   "source": [
    "list(range(5,1))"
   ]
  },
  {
   "cell_type": "code",
   "execution_count": null,
   "metadata": {},
   "outputs": [],
   "source": []
  }
 ],
 "metadata": {
  "kernelspec": {
   "display_name": "Python 3",
   "language": "python",
   "name": "python3"
  },
  "language_info": {
   "codemirror_mode": {
    "name": "ipython",
    "version": 3
   },
   "file_extension": ".py",
   "mimetype": "text/x-python",
   "name": "python",
   "nbconvert_exporter": "python",
   "pygments_lexer": "ipython3",
   "version": "3.6.5"
  }
 },
 "nbformat": 4,
 "nbformat_minor": 2
}
