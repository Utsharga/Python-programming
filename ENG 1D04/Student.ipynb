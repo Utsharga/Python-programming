{
 "cells": [
  {
   "cell_type": "code",
   "execution_count": 10,
   "metadata": {},
   "outputs": [],
   "source": [
    "class Student:\n",
    "\n",
    "    def __init__(self, name, student_id):\n",
    "        self.name = name\n",
    "        self.student_id = student_id\n",
    "        self.units = 0.0\n",
    "        self.points = 0.0\n",
    "        self.gpa = 0.0 \n",
    "\n",
    "    def get_name(self, name):\n",
    "        return self.name\n",
    "\n",
    "    def get_id (self, student_id):\n",
    "        return self.student_id\n",
    "\n",
    "    def get_units (self, units):\n",
    "        return self.units\n",
    "\n",
    "    def get_points (self, points):\n",
    "        return self.points\n",
    "\n",
    "    def get_gpa (self,gpa):\n",
    "        return self.gpa\n",
    "\n",
    "    def set_units (self, units):\n",
    "        self.units = units\n",
    "\n",
    "    def set_points (self, points):\n",
    "        self.points = points\n",
    "\n",
    "    def calculate_gpa (self):\n",
    "        self.gpa = self.points/self.units\n"
   ]
  }
 ],
 "metadata": {
  "kernelspec": {
   "display_name": "Python 3",
   "language": "python",
   "name": "python3"
  },
  "language_info": {
   "codemirror_mode": {
    "name": "ipython",
    "version": 3
   },
   "file_extension": ".py",
   "mimetype": "text/x-python",
   "name": "python",
   "nbconvert_exporter": "python",
   "pygments_lexer": "ipython3",
   "version": "3.6.5"
  }
 },
 "nbformat": 4,
 "nbformat_minor": 2
}
