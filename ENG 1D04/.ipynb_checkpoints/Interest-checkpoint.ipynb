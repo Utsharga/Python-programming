{
 "cells": [
  {
   "cell_type": "code",
   "execution_count": 36,
   "metadata": {},
   "outputs": [],
   "source": [
    "#Banks sometimes offer continuous compound interest, which is, roughly speaking, compounding interest infinitely often.\n",
    "#The purpose of this program is to calculate the future values of investments with compound interest and with continuous \n",
    "#compound interest and then compares the difference between them.\n",
    "\n",
    "#The program takes as input the following amounts:\n",
    "#a. The initial principal (p)\n",
    "#b. The interest rate (r)\n",
    "#c. The number of times the interest is compounded per year (n)\n",
    "#d. The time expressed as a number of years (t) \n",
    "\n",
    "import math\n",
    "\n",
    "def calReturn(p, r, n, t):\n",
    "\n",
    "    A = 0 #the future value of p with compound interest: method 1\n",
    "    B = [] #the future value of p with compound interest: method 2\n",
    "    C = 0  #the future value of p with continuous compound interest\n",
    "    D = 0 #the relative difference between A and the last value of B expressed as a percentage\n",
    "    E = 0 #the relative difference between A and C expressed as a percentage\n",
    "\n",
    "    A = p * (1 + r/n)**(n*t)\n",
    "\n",
    "    x = 1\n",
    "    for i in range(n*t):\n",
    "        x = x * (1 + r/n)\n",
    "        B.append(p * x)\n",
    "\n",
    "    C = p * math.e**(r*t)\n",
    "     \n",
    "    D = abs(100*(A-B[-1])/B[0])\n",
    "    \n",
    "    E = abs(100*(A-C)/C)\n",
    "    \n",
    "    print (A, C, D, E)\n"
   ]
  },
  {
   "cell_type": "code",
   "execution_count": 37,
   "metadata": {},
   "outputs": [
    {
     "name": "stdout",
     "output_type": "stream",
     "text": [
      "1054.50938424492 1218.249396070347 0.0 13.440598645367354\n"
     ]
    }
   ],
   "source": [
    "calReturn(100,0.5,4,5)"
   ]
  },
  {
   "cell_type": "code",
   "execution_count": null,
   "metadata": {},
   "outputs": [],
   "source": []
  }
 ],
 "metadata": {
  "kernelspec": {
   "display_name": "Python 3",
   "language": "python",
   "name": "python3"
  },
  "language_info": {
   "codemirror_mode": {
    "name": "ipython",
    "version": 3
   },
   "file_extension": ".py",
   "mimetype": "text/x-python",
   "name": "python",
   "nbconvert_exporter": "python",
   "pygments_lexer": "ipython3",
   "version": "3.6.5"
  }
 },
 "nbformat": 4,
 "nbformat_minor": 2
}
