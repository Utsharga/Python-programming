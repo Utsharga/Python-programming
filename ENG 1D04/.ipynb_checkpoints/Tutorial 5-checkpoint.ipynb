{
 "cells": [
  {
   "cell_type": "code",
   "execution_count": 9,
   "metadata": {},
   "outputs": [],
   "source": [
    "outfile = open (\"output.txt\", \"w\")\n",
    "outfile.write (\"This program prints a string.\")\n",
    "outfile.close()"
   ]
  },
  {
   "cell_type": "code",
   "execution_count": 10,
   "metadata": {},
   "outputs": [
    {
     "name": "stdout",
     "output_type": "stream",
     "text": [
      "This program prints a string.\n"
     ]
    }
   ],
   "source": [
    "infile = open(\"output.txt\", \"r\")\n",
    "contents = infile.read()\n",
    "print (contents)\n",
    "infile.close()"
   ]
  },
  {
   "cell_type": "code",
   "execution_count": 11,
   "metadata": {},
   "outputs": [],
   "source": [
    "#open file to write\n",
    "#make 800 grades between (0-12)\n",
    "#write those grades to the file\n",
    "#close file\n",
    "\n",
    "import random\n",
    "\n",
    "outfile = open (\"grade.txt\", \"w\")\n",
    "\n",
    "for student in range(0,800):\n",
    "    grade = random.randint(0,12)\n",
    "    outfile.write(str(grade) +\"\\n\")\n",
    "    \n",
    "outfile.close()"
   ]
  },
  {
   "cell_type": "code",
   "execution_count": 12,
   "metadata": {},
   "outputs": [
    {
     "name": "stdout",
     "output_type": "stream",
     "text": [
      "[53, 58, 80, 70, 65, 59, 61, 54, 59, 60, 58, 61, 62]\n"
     ]
    }
   ],
   "source": [
    "infile = open(\"grade.txt\", \"r\")\n",
    "\n",
    "gradesList = [0]*13\n",
    "\n",
    "for line in infile:\n",
    "    grade = int(line)\n",
    "    gradesList[grade] += 1\n",
    "    \n",
    "print (gradesList)"
   ]
  },
  {
   "cell_type": "code",
   "execution_count": 13,
   "metadata": {},
   "outputs": [
    {
     "data": {
      "image/png": "[encoded data removed]",
      "text/plain": [
       "<Figure size 432x288 with 1 Axes>"
      ]
     },
     "metadata": {},
     "output_type": "display_data"
    }
   ],
   "source": [
    "import pylab\n",
    "x = range(13)\n",
    "y = gradesList\n",
    "pylab.bar(x,y)\n",
    "pylab.show()"
   ]
  },
  {
   "cell_type": "code",
   "execution_count": 30,
   "metadata": {},
   "outputs": [
    {
     "name": "stdout",
     "output_type": "stream",
     "text": [
      "['3,5\\n', '2,3\\n', '4,5\\n', '6,7\\n', '8,9\\n', '1,5\\n', '3,7']\n",
      "3,5\n",
      "['3', '5']\n",
      "3.0 5.0\n",
      "2,3\n",
      "['2', '3']\n",
      "2.0 3.0\n",
      "4,5\n",
      "['4', '5']\n",
      "4.0 5.0\n",
      "6,7\n",
      "['6', '7']\n",
      "6.0 7.0\n",
      "8,9\n",
      "['8', '9']\n",
      "8.0 9.0\n",
      "1,5\n",
      "['1', '5']\n",
      "1.0 5.0\n",
      "3,7\n",
      "['3', '7']\n",
      "3.0 7.0\n",
      "4.414634146341464\n"
     ]
    }
   ],
   "source": [
    "#Practice for major 2\n",
    "infile = open(\"Number.txt\", \"r\")\n",
    "contents = infile.readlines()\n",
    "print (contents)\n",
    "infile.close()\n",
    "L = []\n",
    "sumAB = 0\n",
    "sumB = 0\n",
    "for pair in contents:\n",
    "    stripPair = pair.strip()\n",
    "    print(stripPair)\n",
    "    splitPair = stripPair.split(\",\")\n",
    "    print (splitPair)\n",
    "    a = float(splitPair[0])\n",
    "    b = float(splitPair[1])\n",
    "    print (a, b)\n",
    "    L.append([a,b])\n",
    "    \n",
    "    sumAB += a * b\n",
    "    sumB += b\n",
    "    \n",
    "V = sumAB / sumB\n",
    "print (V)"
   ]
  },
  {
   "cell_type": "code",
   "execution_count": 6,
   "metadata": {},
   "outputs": [
    {
     "name": "stdout",
     "output_type": "stream",
     "text": [
      "   hey I don't know what to do,,,,,    \n",
      "hey I don't know what to do\n"
     ]
    }
   ],
   "source": [
    "myStr = \"   hey I don't know what to do,,,,,    \"\n",
    "print (myStr)\n",
    "stripStr = myStr.strip(\",,,,,    \")\n",
    "print (stripStr)"
   ]
  },
  {
   "cell_type": "code",
   "execution_count": 8,
   "metadata": {},
   "outputs": [
    {
     "name": "stdout",
     "output_type": "stream",
     "text": [
      "1,2,3,4 5 6 7 2 9\n",
      "['1,2,3,4', '5', '6', '7', '2', '9']\n"
     ]
    }
   ],
   "source": [
    "myS = \"1,2,3,4 5 6 7 2 9\"\n",
    "print (myS)\n",
    "wsSplit = myS.split()\n",
    "print(wsSplit)"
   ]
  },
  {
   "cell_type": "code",
   "execution_count": null,
   "metadata": {},
   "outputs": [],
   "source": []
  }
 ],
 "metadata": {
  "kernelspec": {
   "display_name": "Python 3",
   "language": "python",
   "name": "python3"
  },
  "language_info": {
   "codemirror_mode": {
    "name": "ipython",
    "version": 3
   },
   "file_extension": ".py",
   "mimetype": "text/x-python",
   "name": "python",
   "nbconvert_exporter": "python",
   "pygments_lexer": "ipython3",
   "version": "3.6.5"
  }
 },
 "nbformat": 4,
 "nbformat_minor": 2
}
