{
 "cells": [
  {
   "cell_type": "markdown",
   "metadata": {
    "nbgrader": {
     "grade": false,
     "grade_id": "major_5_v3_title",
     "locked": true,
     "schema_version": 1,
     "solution": false
    }
   },
   "source": [
    "# <center>Major Assignment 5 Practice 2</center>\n",
    "-------------\n",
    "<b><center>ENGINEER 1D04</center><b>\n",
    "<b><center>Dr. Asghar Bokhari</center><b>\n",
    "<b><center>McMaster University, Fall 2018</center><b>"
   ]
  },
  {
   "cell_type": "markdown",
   "metadata": {},
   "source": [
    "## This is one of the old versions for major 5 do NOT expect to see this on your major"
   ]
  },
  {
   "cell_type": "markdown",
   "metadata": {
    "nbgrader": {
     "grade": false,
     "grade_id": "major_5_v3_instructions",
     "locked": true,
     "schema_version": 1,
     "solution": false
    }
   },
   "source": [
    "## Background\n",
    "----------------\n",
    " In geometry, a 2-dimensional convex polygon is any closed figure with $n > 2$ vertices (and $n > 2$ edges), in which every internal angle is less than 180 degrees and no two edges cross each other. For example, any parallelogram is a valid convex polygon with $n = 4$. We can define such a polygon in the 2-D cartesian plane by giving a list of vertex points (x, y pairs), where it is assumed that the list of vertices travels \"clockwise\" around the polygon, as follows:\n",
    "$$v = p_0, p_1, ... , p_{n-1} = (x_0, y_0), (x_1, y_1), ... , (x_{n-1}, y_{n-1})$$\n",
    "\n",
    "The polygon edges are then defined to be the lines between each $p_i, p_{i+1}$ pair. By definition, $x_n = x_0$ and $y_n = y_0$, which \"closes\" the polygon with the line $p_{n-1}, p_0$. In Python, we can use this definition to specify a parallelogram (for example) with the following list of vertices:\n",
    "\n",
    "`v = [ [0.0, 0.0], [0.5, 1.5], [2.5, 1.5], [2.0, 0.0] ]`\n",
    "\n",
    "From a polygon defined this way, we can calculate the magnitude of any interior angle $\\theta_i$ (in radians) of the polygon using the following:\n",
    "$$\\theta_i = \\arccos{\\left(\\frac{L_{\\displaystyle (i,  i+1) }^2 + L_{\\displaystyle (i-1,  i)}^2 - L_{\\displaystyle (i-1,  i+1)}^2}{2L_{\\displaystyle (i,  i+1)}L_{\\displaystyle (i-1,  i)}}\\right)}$$\n",
    "                      \n",
    "Where the distance between two vertices $p_i$ and $p_j$ is $L_{\\displaystyle (i,  j)} = \\sqrt{(x_i - x_j)^2 + (y_i - y_j)^2}$\n",
    "\n",
    "Design, implement, and test a program that satisfies the requirements below.\n",
    "\n",
    "-------------------\n",
    "## Requirements\n",
    "1. The library includes a Python class named `ConvexPolygon`. <br><br>\n",
    "\n",
    "2. The `__init__` method for the class takes the first formal parameter `self` and a list of `[x, y]` pairs $v$ (as in the parallelogram example above), and stores the list as a class instance variable. Note that the length of the list is not fixed! <br><br>\n",
    "\n",
    "3. The class contains an accessor `getVertices` for the vertices $v$. <br><br>\n",
    "\n",
    "4. The class contains a mutator `setVertex(self, i, x, y)` that takes the first formal parameter `self`, an int `i`, and floats `x` and `y` and updates the `i`-th vertex in $v$ to be `[x, y]` (ie.~update $p_i$ in $v$).  Note that the length of $v$ does not change!<br><br>\n",
    "\n",
    "5.  The class contains a method `getLength(self, i, j)` that takes the first formal parameter `self` and two integers `i` and `j`, and returns the distance between vertices $p_i$ and $p_j$ as defined above.<br><br>\n",
    "\n",
    "6. The class contains a method `getInteriorAngle(self, i)` that takes the first formal parameter `self` and an integer `i`, and returns the interior angle of vertex $p_i$ (in radians) as defined above.  **Keep in mind that the next vertex after the last vertex in a convex polygon is the first vertex.**<br><br>\n",
    "\n",
    "7. **Outside** the class there is a function `isRegularPolygon(p)` that takes a `ConvexPolygon` object `p` and returns `True` if all edges and interior angles in `p` are equivalent, `False` otherwise.<br><br>\n",
    "\n",
    "8. The program requires very little besides the function definitions. There is no main().<br><br>\n",
    "\n",
    "9. Your name, MacID, student number, and the date are given in comments at the top of the first Python cell below.<br><br>\n",
    "\n",
    "10. Your answers to the design questions and test plan are given in the appropriate Markdown cells below.<br><br>\n",
    "\n",
    "11. Your program MUST have valid Python syntax and it must run without errors. Ensure that your program runs properly by running it before you submit.<br><br>\n",
    "\n",
    "12. You must sign out with a TA or IAI after you have submitted your lab at the submission station. Failure to do so could result in a mark of zero.\n",
    "------------------\n",
    "## Design and Implementation Instructions\n",
    "\n",
    "1. Use the `math` library to implement the sin and cos functions.<br><br>\n",
    "2. You may assume that inputs will be within a valid range and of the correct type, and that exception handling is not necessary.<br><br>\n",
    "3. Follow the function syntax **EXACTLY** as given, including spelling, capitalization and the order of function paramaters.\n",
    "\n",
    "------------------"
   ]
  },
  {
   "cell_type": "code",
   "execution_count": 33,
   "metadata": {
    "nbgrader": {
     "grade": false,
     "grade_id": "convexPolygon",
     "locked": false,
     "schema_version": 1,
     "solution": true
    }
   },
   "outputs": [
    {
     "name": "stdout",
     "output_type": "stream",
     "text": [
      "[[0.75, 3.5], [2.5, 2.75], [4, 5], [-0.25, 2.25]]\n",
      "2.704163456597992\n",
      "0.3217505543966423\n",
      "False\n"
     ]
    }
   ],
   "source": [
    "#DO NOT PUT AN INPUT STATEMENT IN THIS CELL\n",
    "\n",
    "######################---ConvexPolygon class definition (6 Marks)---######################\n",
    "class ConvexPolygon:\n",
    "    def __init__(self, v):\n",
    "        self.vList = v\n",
    "        \n",
    "    def getVertices(self):\n",
    "        return self.vList\n",
    "    \n",
    "    def setVertex(self, i, x, y):\n",
    "        self.vList[i] = [x, y]\n",
    "        \n",
    "    def getLength(self, i, j):\n",
    "        diffx = self.vList[i][0] - self.vList[j][0]\n",
    "        diffy = self.vList[i][1] - self.vList[j][1]\n",
    "        length = ((diffx)**2 + (diffy)**2)**(1/2)\n",
    "        return length\n",
    "    \n",
    "    def getInteriorAngle(self, i):\n",
    "        import math\n",
    "        if i + 1 > len(self.vList)-1:\n",
    "            theta = math.acos((self.getLength(i,0)**2 + self.getLength(i-1,i)**2 - self.getLength(i-1,0)**2)/(2 * self.getLength(i,0) * self.getLength(i-1,i)))\n",
    "            return theta\n",
    "        elif i - 1 < \n",
    "############################---isRegularPolygon(p) (4 Marks)---############################\n",
    "def isRegularPolygon(p):\n",
    "    for i in range(1, len(p.vList)-1):\n",
    "        if p.getInteriorAngle(i) != p.getInteriorAngle(i+1):\n",
    "            return False\n",
    "    return True\n",
    "\n",
    "p = ConvexPolygon([[0.75, 3.5], [2.5, 2.75], [-0.75, -1.5], [-0.25, 2.25]])\n",
    "p.setVertex(2, 4, 5)\n",
    "\n",
    "###Test####\n",
    "p.setVertex(2, 4, 5)\n",
    "print(p.getVertices())\n",
    "print(p.getLength(1, 2))\n",
    "print(p.getInteriorAngle(3))\n",
    "print(isRegularPolygon(p))"
   ]
  },
  {
   "cell_type": "code",
   "execution_count": 30,
   "metadata": {
    "nbgrader": {
     "grade": true,
     "grade_id": "convexPolygon_tests",
     "locked": true,
     "points": 0,
     "schema_version": 1,
     "solution": false
    }
   },
   "outputs": [
    {
     "data": {
      "text/plain": [
       "'\\nSample Input:\\np = ConvexPolygon([[0.75, 3.5], [2.5, 2.75], [-0.75, -1.5], [-0.25, 2.25]])\\np.setVertex(2, 4, 5)\\n\\nSample Output:\\np.setVertex(2, 4, 5)\\np.getVertices() = [[0.75, 3.5], [2.5, 2.75], [4.0, 5.0], [-0.25, 2.25]]\\np.getLength(1, 2) = 2.704163456597992\\np.getInteriorAngle(3) = 0.3217505543966423\\nisRegularPolygon(p) = False\\n'"
      ]
     },
     "execution_count": 30,
     "metadata": {},
     "output_type": "execute_result"
    }
   ],
   "source": [
    "###########---TESTING CELL---#############\n",
    "\n",
    "#This cell would be used to give you the automated mark\n",
    "\n",
    "'''\n",
    "Sample Input:\n",
    "p = ConvexPolygon([[0.75, 3.5], [2.5, 2.75], [-0.75, -1.5], [-0.25, 2.25]])\n",
    "p.setVertex(2, 4, 5)\n",
    "\n",
    "Sample Output:\n",
    "p.setVertex(2, 4, 5)\n",
    "p.getVertices() = [[0.75, 3.5], [2.5, 2.75], [4.0, 5.0], [-0.25, 2.25]]\n",
    "p.getLength(1, 2) = 2.704163456597992\n",
    "p.getInteriorAngle(3) = 0.3217505543966423\n",
    "isRegularPolygon(p) = False\n",
    "'''\n"
   ]
  },
  {
   "cell_type": "markdown",
   "metadata": {
    "nbgrader": {
     "grade": false,
     "grade_id": "cell-8ec90dbc7e97dbf9",
     "locked": true,
     "schema_version": 1,
     "solution": false
    }
   },
   "source": [
    "## Code Legibility (3 Points)\n",
    "----------\n",
    "Your code will be marked on commenting and code legibility.<br>\n",
    "The mark breakdown is as follows:<br>\n",
    "1 mark for using appropriate variable names that indicate what is being stored in that variable<br>\n",
    "1 mark for leaving comments on major parts of your code such as where you read the file or calculate a summation<br>\n",
    "1 mark for general legibility. The TA's should be able to understand your code without spending hours reading it. For example do not put your code in one very long line as this is hard for someone else reading your code to understand\n",
    "\n",
    "<h6>Ignore the empty cell below. You do NOT need to type anything in it </h6>"
   ]
  },
  {
   "cell_type": "markdown",
   "metadata": {
    "nbgrader": {
     "grade": true,
     "grade_id": "cell-52ac4b06ed3a08b5",
     "locked": false,
     "points": 3,
     "schema_version": 1,
     "solution": true
    }
   },
   "source": []
  },
  {
   "cell_type": "markdown",
   "metadata": {
    "nbgrader": {
     "grade": false,
     "grade_id": "major_5_v3_dq",
     "locked": true,
     "schema_version": 1,
     "solution": false
    }
   },
   "source": [
    "## Design Questions (4 Points)\n",
    "--------------\n",
    "4 design questions either based on your program or testing your understanding of concepts discussed in lab and tutorial\n",
    "\n",
    "\n",
    "Enter your answers into the Markdown cell below."
   ]
  },
  {
   "cell_type": "markdown",
   "metadata": {
    "nbgrader": {
     "grade": true,
     "grade_id": "major_5_v3_dq_answers",
     "locked": false,
     "points": 4,
     "schema_version": 1,
     "solution": true
    }
   },
   "source": [
    "<pre>\n",
    "Your Answer Here (DO NOT DELETE &lt;pre&gt; or &lt;/pre&gt;)\n",
    "</pre>"
   ]
  },
  {
   "cell_type": "markdown",
   "metadata": {
    "nbgrader": {
     "grade": false,
     "grade_id": "major_5_v3_test_plan",
     "locked": true,
     "schema_version": 1,
     "solution": false
    }
   },
   "source": [
    "## Testing Plan (3 Points)\n",
    "---------------\n",
    "\n",
    "`Test i for method/function j\n",
    "Input: inputs for method/function j\n",
    "Expected Output: expected output for method/function j\n",
    "Actual Output: actual output for method/function j\n",
    "Result: Pass/Fail\n",
    "`\n",
    "\n",
    "For mutators, Expected Output will be the expected values for the instance variables that the mutator is changing.\n",
    "\n",
    "Note: The actual output should be what the program produces, even if your output does not match the expected output.\n",
    "\n",
    "You must have $NO$ $LESS$ $THAN$ $3$ $TEST$ $CASES$.\n",
    "\n",
    "One case must be a $normal$ test case.\n",
    "\n",
    "One case must be a $boundary$ test case (testing the extremes of the input domain).\n",
    "\n",
    "One case must be an $abnormal$ test case (incorrect data types, try to crash the program)."
   ]
  },
  {
   "cell_type": "markdown",
   "metadata": {
    "nbgrader": {
     "grade": true,
     "grade_id": "major_5_v3_test_plan_answers",
     "locked": false,
     "points": 3,
     "schema_version": 1,
     "solution": true
    }
   },
   "source": [
    "<pre>\n",
    "Your Answer Here (DO NOT DELETE &lt;pre&gt; or &lt;/pre&gt;)\n",
    "</pre>"
   ]
  }
 ],
 "metadata": {
  "celltoolbar": "Create Assignment",
  "kernelspec": {
   "display_name": "Python 3",
   "language": "python",
   "name": "python3"
  },
  "language_info": {
   "codemirror_mode": {
    "name": "ipython",
    "version": 3
   },
   "file_extension": ".py",
   "mimetype": "text/x-python",
   "name": "python",
   "nbconvert_exporter": "python",
   "pygments_lexer": "ipython3",
   "version": "3.6.5"
  }
 },
 "nbformat": 4,
 "nbformat_minor": 2
}
