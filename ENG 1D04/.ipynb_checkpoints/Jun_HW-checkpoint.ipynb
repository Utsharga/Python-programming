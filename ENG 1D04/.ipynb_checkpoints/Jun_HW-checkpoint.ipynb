{
 "cells": [
  {
   "cell_type": "code",
   "execution_count": null,
   "metadata": {},
   "outputs": [],
   "source": [
    "### define slot to calculate money lost at slot\n",
    "\n",
    "def slots(money, num_times):\n",
    "    required_funds = num_times * 4\n",
    "    if money >= required_funds:\n",
    "        money = money - required_funds\n",
    "        print(\"Thank you for playing the Slots\")\n",
    "        print(\"Shocking, you didn't win anything\")\n",
    "    else: \n",
    "        print(\"Sorry, insufficient funds\")\n",
    "    return money\n",
    "\n",
    "### define roulette to calculate money lost at roulette\n",
    "                  \n",
    "def roulette(money, num_times):\n",
    "    required_funds = num_times * 10\n",
    "    if money >= required_funds:\n",
    "        money = money - required_funds\n",
    "        print(\"Thank you for playing the Slots\")\n",
    "        print(\"Shocking, you didn't wind anything:\")\n",
    "    elif money >= 4:\n",
    "        print(\"You can't afford this game\")\n",
    "        choice = str(input(\"Enter 'y' if you'd like to play the slots one time. Otherwise, press any other key:  \"))\n",
    "        if choice == \"y\":\n",
    "            money = slots(money, 1)\n",
    "        else:\n",
    "            print(\"Sorry, insufficient funds\")\n",
    "    return money\n",
    "\n",
    "''' define main for user to choose either they want to play either slots or roulette\n",
    "and by using while loop, user can play at casino until they lost all money. \n",
    "\n",
    "'''\n",
    "\n",
    "def main():\n",
    "    money = int(100)\n",
    "    while money >0:\n",
    "        print(\"Your current balance is $\", money)\n",
    "        print (\"1.Slots\")\n",
    "        print (\"2.Roulette\")\n",
    "        pick_game = str(input(\"Please select your choice above or select any other key to exit\"))\n",
    "        if pick_game == \"1\":\n",
    "            num_times = int(input(\"Select how many times would you like to play the Slots?:\"  ))\n",
    "            money = slots(money, num_times)\n",
    "        elif pick_game == \"2\":\n",
    "            num_times = int(input(\"Select how many times would you like to play Roulette?:\" ))\n",
    "            money = roulette(money, num_times)\n",
    "        else:\n",
    "            break\n",
    "\n",
    "    print(\"You have managed to crawl out of the casino with$\", money)\n",
    "main()"
   ]
  },
  {
   "cell_type": "code",
   "execution_count": null,
   "metadata": {},
   "outputs": [],
   "source": []
  }
 ],
 "metadata": {
  "kernelspec": {
   "display_name": "Python 3",
   "language": "python",
   "name": "python3"
  },
  "language_info": {
   "codemirror_mode": {
    "name": "ipython",
    "version": 3
   },
   "file_extension": ".py",
   "mimetype": "text/x-python",
   "name": "python",
   "nbconvert_exporter": "python",
   "pygments_lexer": "ipython3",
   "version": "3.6.5"
  }
 },
 "nbformat": 4,
 "nbformat_minor": 2
}
