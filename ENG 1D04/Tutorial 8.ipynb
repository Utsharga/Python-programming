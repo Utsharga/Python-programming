{
 "cells": [
  {
   "cell_type": "code",
   "execution_count": 2,
   "metadata": {},
   "outputs": [],
   "source": [
    "#counted loops are for loops since we know the number of time it runs\n",
    "#while is a conditional loop"
   ]
  },
  {
   "cell_type": "code",
   "execution_count": 3,
   "metadata": {},
   "outputs": [
    {
     "name": "stdout",
     "output_type": "stream",
     "text": [
      "1 2 3 4 "
     ]
    }
   ],
   "source": [
    "#while conditional loop\n",
    "i = 0\n",
    "while i < 4:\n",
    "    i = i + 1\n",
    "    print(i, end = \" \")"
   ]
  },
  {
   "cell_type": "code",
   "execution_count": 4,
   "metadata": {},
   "outputs": [
    {
     "name": "stdout",
     "output_type": "stream",
     "text": [
      "0 1 2 3 4 \n",
      "0 1 2 3 4 "
     ]
    }
   ],
   "source": [
    "#for loops can ALWAYS be transformed into a wile loop\n",
    "for index in range(5):\n",
    "    print (index, end = \" \")\n",
    "\n",
    "print ()\n",
    "\n",
    "i = 0    \n",
    "while i < 5:\n",
    "    print(i, end = \" \") #if this was done after indexing the output would be, \"1 2 3 4 5\"\n",
    "    i = i + 1"
   ]
  },
  {
   "cell_type": "code",
   "execution_count": 5,
   "metadata": {},
   "outputs": [],
   "source": [
    "def pyramidHeight(total):\n",
    "    layer = 0\n",
    "#ALternative code, Not best optimized\n",
    "#     while total > 0:\n",
    "#         layer = layer + 1\n",
    "#         total = total - layer**2\n",
    "#         print(\"layer =\", layer, \"total =\", total)\n",
    "#     if total < 0:\n",
    "#         layer -= 1\n",
    "    while (total - (layer+1)**2) > 0:\n",
    "        layer = layer + 1\n",
    "        total = total - layer**2\n",
    "        print(\"layer =\", layer, \"total =\", total)\n",
    "    return layer"
   ]
  },
  {
   "cell_type": "code",
   "execution_count": 6,
   "metadata": {},
   "outputs": [
    {
     "name": "stdout",
     "output_type": "stream",
     "text": [
      "layer = 1 total = 12\n",
      "layer = 2 total = 8\n"
     ]
    },
    {
     "data": {
      "text/plain": [
       "2"
      ]
     },
     "execution_count": 6,
     "metadata": {},
     "output_type": "execute_result"
    }
   ],
   "source": [
    "pyramidHeight(13)"
   ]
  },
  {
   "cell_type": "code",
   "execution_count": 7,
   "metadata": {},
   "outputs": [
    {
     "name": "stdout",
     "output_type": "stream",
     "text": [
      "enter a +ve real number25\n",
      "sq = 13.0 posRealNum = 25.0\n",
      "sq = 7.461538461538462 posRealNum = 25.0\n",
      "sq = 5.406026962727994 posRealNum = 25.0\n",
      "sq = 5.015247601944898 posRealNum = 25.0\n",
      "sq = 5.000023178253949 posRealNum = 25.0\n"
     ]
    }
   ],
   "source": [
    "posRealNum = float(input(\"enter a +ve real number\"))\n",
    "sq = posRealNum\n",
    "while abs(sq - (posRealNum/sq)) > 0.001:\n",
    "    sq = (sq + (posRealNum/sq))/2\n",
    "    print (\"sq =\", sq, \"posRealNum =\", posRealNum)"
   ]
  },
  {
   "cell_type": "code",
   "execution_count": 16,
   "metadata": {},
   "outputs": [],
   "source": [
    "from random import randint\n",
    "def guessingGame():\n",
    "    number = randint(1,10)\n",
    "    guess = None\n",
    "    try:\n",
    "        while guess != number:\n",
    "            guess = int(input(\"What number am I thinking of: (q to quit)\"))\n",
    "    except:\n",
    "        pass"
   ]
  },
  {
   "cell_type": "code",
   "execution_count": 17,
   "metadata": {},
   "outputs": [
    {
     "name": "stdout",
     "output_type": "stream",
     "text": [
      "What number am I thinking of: (q to quit)5\n",
      "What number am I thinking of: (q to quit)1\n",
      "What number am I thinking of: (q to quit)2\n",
      "What number am I thinking of: (q to quit)3\n",
      "What number am I thinking of: (q to quit)4\n",
      "What number am I thinking of: (q to quit)6\n",
      "What number am I thinking of: (q to quit)7\n",
      "What number am I thinking of: (q to quit)8\n"
     ]
    }
   ],
   "source": [
    "guessingGame()"
   ]
  },
  {
   "cell_type": "markdown",
   "metadata": {},
   "source": []
  },
  {
   "cell_type": "code",
   "execution_count": 18,
   "metadata": {},
   "outputs": [
    {
     "data": {
      "text/plain": [
       "True"
      ]
     },
     "execution_count": 18,
     "metadata": {},
     "output_type": "execute_result"
    }
   ],
   "source": [
    "\"\" or True"
   ]
  },
  {
   "cell_type": "code",
   "execution_count": 19,
   "metadata": {},
   "outputs": [
    {
     "data": {
      "text/plain": [
       "False"
      ]
     },
     "execution_count": 19,
     "metadata": {},
     "output_type": "execute_result"
    }
   ],
   "source": [
    "\"hey\" and False"
   ]
  },
  {
   "cell_type": "code",
   "execution_count": 20,
   "metadata": {},
   "outputs": [
    {
     "data": {
      "text/plain": [
       "0"
      ]
     },
     "execution_count": 20,
     "metadata": {},
     "output_type": "execute_result"
    }
   ],
   "source": [
    "0 and True"
   ]
  },
  {
   "cell_type": "code",
   "execution_count": 21,
   "metadata": {},
   "outputs": [
    {
     "data": {
      "text/plain": [
       "'dog'"
      ]
     },
     "execution_count": 21,
     "metadata": {},
     "output_type": "execute_result"
    }
   ],
   "source": [
    "False or \"dog\""
   ]
  },
  {
   "cell_type": "code",
   "execution_count": 25,
   "metadata": {},
   "outputs": [
    {
     "data": {
      "text/plain": [
       "'dog'"
      ]
     },
     "execution_count": 25,
     "metadata": {},
     "output_type": "execute_result"
    }
   ],
   "source": [
    "#since dog is true since the string is not empty, it short circuits and gives you 'dog'\n",
    "\"dog\" or \"cat\""
   ]
  },
  {
   "cell_type": "code",
   "execution_count": 29,
   "metadata": {},
   "outputs": [
    {
     "data": {
      "text/plain": [
       "'cat'"
      ]
     },
     "execution_count": 29,
     "metadata": {},
     "output_type": "execute_result"
    }
   ],
   "source": [
    "\"dog\" and \"cat\""
   ]
  },
  {
   "cell_type": "code",
   "execution_count": 26,
   "metadata": {},
   "outputs": [
    {
     "data": {
      "text/plain": [
       "''"
      ]
     },
     "execution_count": 26,
     "metadata": {},
     "output_type": "execute_result"
    }
   ],
   "source": [
    "\"\" and 0"
   ]
  },
  {
   "cell_type": "code",
   "execution_count": 27,
   "metadata": {},
   "outputs": [
    {
     "data": {
      "text/plain": [
       "0"
      ]
     },
     "execution_count": 27,
     "metadata": {},
     "output_type": "execute_result"
    }
   ],
   "source": [
    "[] or 0"
   ]
  },
  {
   "cell_type": "code",
   "execution_count": 28,
   "metadata": {},
   "outputs": [
    {
     "data": {
      "text/plain": [
       "5"
      ]
     },
     "execution_count": 28,
     "metadata": {},
     "output_type": "execute_result"
    }
   ],
   "source": [
    "[] or 5"
   ]
  },
  {
   "cell_type": "code",
   "execution_count": null,
   "metadata": {},
   "outputs": [],
   "source": []
  }
 ],
 "metadata": {
  "kernelspec": {
   "display_name": "Python 3",
   "language": "python",
   "name": "python3"
  },
  "language_info": {
   "codemirror_mode": {
    "name": "ipython",
    "version": 3
   },
   "file_extension": ".py",
   "mimetype": "text/x-python",
   "name": "python",
   "nbconvert_exporter": "python",
   "pygments_lexer": "ipython3",
   "version": "3.6.5"
  }
 },
 "nbformat": 4,
 "nbformat_minor": 2
}
