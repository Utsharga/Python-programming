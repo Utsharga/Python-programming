{
 "cells": [
  {
   "cell_type": "code",
   "execution_count": 1,
   "metadata": {},
   "outputs": [
    {
     "name": "stdout",
     "output_type": "stream",
     "text": [
      "True\n",
      "True\n",
      "True\n",
      "[2, -7.0, 0.95, [0.2, 20], [6.2, 8.6]]\n",
      "[3, -5.1, 0.91, [0.83, 21], [107.1, 108.1]]\n",
      "3\n",
      "[12, -6.3, 0.94, [0.91, 30], [106.5, 109.4]]\n",
      "12\n",
      "[0.375, 10]\n"
     ]
    }
   ],
   "source": [
    "#This program deals with interpreting a table of weather simulation data, to predict the daily weather\n",
    "def isTempUnder(row,temp):\n",
    "    if row[1] < temp:\n",
    "        return True\n",
    "    else:\n",
    "        return False\n",
    "\n",
    "def isHumidityOver(row, percent):\n",
    "    if row[2] > percent:\n",
    "        return True\n",
    "    else:\n",
    "        return False\n",
    "\n",
    "def isCloudHeightUnder(row, height):\n",
    "    if row[3][1] < height:\n",
    "        return True\n",
    "    else:\n",
    "        return False\n",
    "\n",
    "def snowChance(data):\n",
    "    temp = -5\n",
    "    percent = 0.8\n",
    "    height = 1000\n",
    "    snow = 0\n",
    "    highTime = -999\n",
    "    lowTime = 1000\n",
    "    for row in data:\n",
    "        tempSnow = isTempUnder(row,temp)\n",
    "        humiditySnow = isHumidityOver(row, percent)\n",
    "        heightSnow = isCloudHeightUnder(row, height)\n",
    "        if tempSnow == True and humiditySnow == True and heightSnow == True:\n",
    "            snow += 1\n",
    "            print (row)\n",
    "            if lowTime > row[0]:\n",
    "                lowTime = row[0]\n",
    "                if highTime < row[0]:\n",
    "                    highTime = row[0]\n",
    "            elif highTime < row[0]:\n",
    "                highTime = row[0]\n",
    "                print(highTime)\n",
    "    chance = snow/(len(data))\n",
    "    snowTime = highTime - lowTime\n",
    "    return [chance, snowTime]\n",
    "\n",
    "\n",
    "data = [ [0, 1.5, 0.4, [0.3, 42], [5.1, 10.0] ], \n",
    "         [2, -7.0, 0.95, [0.2, 20], [6.2, 8.6] ],\n",
    "         [3, -5.1, 0.91, [0.83, 21], [107.1, 108.1] ], \n",
    "         [12, -6.3, 0.94, [0.91, 30], [106.5, 109.4] ], \n",
    "         [18, 20.5, 0.4, [0.3, 12000], [60.1, 162.4] ], \n",
    "         [2, 20.4, 0.3, [0.2, 11000], [105.6, 118.7] ], \n",
    "         [5, -9.2, 0.2, [0.93, 1001], [6.2, 6.3] ], \n",
    "         [15, -2.4, 0.1, [0.95, 1981], [7.4, 8.5] ] ] \n",
    "\n",
    "print(isTempUnder(data[1], 1.4))\n",
    "print(isHumidityOver(data[1], 0.3))\n",
    "print(isCloudHeightUnder(data[1], 42))\n",
    "print(snowChance(data))"
   ]
  },
  {
   "cell_type": "code",
   "execution_count": null,
   "metadata": {},
   "outputs": [],
   "source": []
  }
 ],
 "metadata": {
  "kernelspec": {
   "display_name": "Python 3",
   "language": "python",
   "name": "python3"
  },
  "language_info": {
   "codemirror_mode": {
    "name": "ipython",
    "version": 3
   },
   "file_extension": ".py",
   "mimetype": "text/x-python",
   "name": "python",
   "nbconvert_exporter": "python",
   "pygments_lexer": "ipython3",
   "version": "3.6.5"
  }
 },
 "nbformat": 4,
 "nbformat_minor": 2
}
