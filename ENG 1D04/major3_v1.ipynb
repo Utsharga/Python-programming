{
 "cells": [
  {
   "cell_type": "markdown",
   "metadata": {
    "nbgrader": {
     "grade": false,
     "grade_id": "major_3_v2_title",
     "locked": true,
     "schema_version": 1,
     "solution": false
    }
   },
   "source": [
    "# <center>Major Assignment 3 Practice 1</center>\n",
    "-------------\n",
    "<b><center>ENGINEER 1D04</center><b>\n",
    "<b><center>Dr. Asghar Bokhari</center><b>\n",
    "<b><center>McMaster University, Fall 2018</center><b>"
   ]
  },
  {
   "cell_type": "markdown",
   "metadata": {},
   "source": [
    "## This is one of the old versions for major 3 do NOT expect to see this on your major"
   ]
  },
  {
   "cell_type": "markdown",
   "metadata": {
    "nbgrader": {
     "grade": false,
     "grade_id": "major_3_v2_instructions",
     "locked": true,
     "schema_version": 1,
     "solution": false
    }
   },
   "source": [
    "## Background\n",
    "----------------\n",
    "In this assignment you will implement a library of functions that can be used to encode and decode a list of lists of decimal (base 10) integers as binary (base 2) strings. The ints and binary strings will be stored in a list of lists. An example list of lists of ints would look like:\n",
    "\n",
    "$$\n",
    "\\begin{array}{lllll}\n",
    "{[[} 8, & 2, & 38, & 32, & 10 ], \\\\\n",
    "{[} 54, & 71, & 3 ], & & \\\\\n",
    "{[} 77, & 95, & 67, & 34 ]] & \n",
    "\\end{array} \n",
    "$$\n",
    "\n",
    "Design, implement, and test a program that satisfies the requirements below.\n",
    "\n",
    "-------------------\n",
    "## Requirements\n",
    "1.  Implement **toBin(a)** which takes a list of ints **a** and returns a new list where each entry in **a** is converted to a binary string using the Python function **bin()**.<br><br>\n",
    "\n",
    "2.  Implement **toInt(s)** which takes a list of binary strings **s** and returns a new list where each entry in **s** is converted to an int value using the Python function **int(x, 2)**.<br><br>\n",
    "\n",
    "3. Implement **encode(A, n)** which takes a list of lists of ints **A** and an int **n** and returns a new list of lists of strings where each entry in **A** has first been raised to the power of **n**, then converted to a binary string using **toBin()**. Be careful not to modify **A**.<br><br>\n",
    "\n",
    "4. Implement **decode(S, n)** which takes a list of lists of binary strings **S** and an int **n** and returns a new list of lists of ints where each entry in **S** has first been converted to an int using **toInt()**, then raised to the power of $1/$**n**.<br><br>\n",
    "\n",
    "5. The program requires very little besides the function definitions. There is no main().<br><br>\n",
    "\n",
    "6. Your name, MacID, student number, and the date are given in comments at the top of the first Python cell below.<br><br>\n",
    "\n",
    "7. Your answers to the design questions and test plan are given in the appropriate Markdown cells below.<br><br>\n",
    "\n",
    "8. Your program MUST have valid Python syntax and it must run without errors. Ensure that your program runs properly by running it before you submit.<br><br>\n",
    "\n",
    "9. You must sign out with a TA or IAI after you have submitted your lab at the submission station. Failure to do so could result in a mark of zero.\n",
    "------------------\n",
    "## Design and Implementation Instructions\n",
    "1. To convert a binary string **b** to a decimal integer, use **int(b, 2)**<br><br>\n",
    "2. Conditional statements are not needed for this program.<br><br>\n",
    "3. You may assume that inputs will be within a valid range and of the correct type, and that exception handling is not necessary.<br><br>\n",
    "4. Follow the function syntax **EXACTLY** as given, including spelling, capitalization and the order of function paramaters.<br><br>\n",
    "5. You may choose to use \" \".join(list) to concatenate a list into a single string.\n",
    "\n",
    "------------------\n"
   ]
  },
  {
   "cell_type": "code",
   "execution_count": 23,
   "metadata": {
    "nbgrader": {
     "grade": false,
     "grade_id": "toBin",
     "locked": false,
     "schema_version": 1,
     "solution": true
    }
   },
   "outputs": [
    {
     "name": "stdout",
     "output_type": "stream",
     "text": [
      "[['0b10000000000000000000000000000000000000000000000000000000000000000', '0b101011010101101101010010101111100011110111100100110010001001111000110001111001011111101011110100000001', '0b100000000000000000000000000000000000000000000000000000000000000000000000000000000000000000000000000000000000000000000000000000000'], ['0b110010111100001000011111111001000101011000011100100011010110001110110111100011100111100000001110000100110100000111100001100110010100000101111100100011000000101110110111011000000001']]\n"
     ]
    },
    {
     "data": {
      "text/plain": [
       "[[4294967296, 1853020188851841, 18446744073709551616],\n",
       " [1104427674243920678810025984]]"
      ]
     },
     "execution_count": 23,
     "metadata": {},
     "output_type": "execute_result"
    }
   ],
   "source": [
    "#DO NOT PUT AN INPUT STATEMENT IN THIS CELL\n",
    "\n",
    "################################---toBin(a) - (2 Points)---################################\n",
    "def toBin(listInt):\n",
    "    listBin = []\n",
    "    for i in listInt:\n",
    "        listBin.append(bin(i))\n",
    "    return listBin\n",
    "\n",
    "################################---toInt(a) - (2 Points)---################################\n",
    "def toInt(listBin):\n",
    "    listInt = []\n",
    "    for i in listBin:\n",
    "        listInt.append(int(i, 2))\n",
    "    return listInt\n",
    "\n",
    "##############################---encode(A, n) - (3 Points)---##############################\n",
    "def encode(listA, n):\n",
    "    listB = []\n",
    "    for i in listA:\n",
    "        listC = []\n",
    "        for z in i:\n",
    "            a = z**n\n",
    "            listC.append(a)\n",
    "        x = toBin(listC)\n",
    "        listB.append(x)\n",
    "    print (listB)\n",
    "    return listB\n",
    "        \n",
    "listEncode = encode([[2, 3, 4], [7]], 64)\n",
    "\n",
    "##############################---decode(S, n) - (3 Points)---##############################\n",
    "def decode(listB, n):\n",
    "    listE = []\n",
    "    for i in listB:\n",
    "        listD = []\n",
    "        A = toInt(i)\n",
    "        for x in A:\n",
    "            y = int((x)**(1/2))\n",
    "            listD.append(y)\n",
    "        listE.append(listD)\n",
    "    return listE\n",
    "\n",
    "decode(listEncode, 65)"
   ]
  },
  {
   "cell_type": "code",
   "execution_count": 21,
   "metadata": {
    "nbgrader": {
     "grade": true,
     "grade_id": "decode_tests",
     "locked": true,
     "points": 0,
     "schema_version": 1,
     "solution": false
    }
   },
   "outputs": [
    {
     "data": {
      "text/plain": [
       "\"\\nSample Input:\\ntoBin([1, 2, 15, 4, 7])\\ntoInt(['0b1', '0b10', '0b1111', '0b100', '0b111'])\\nencode([[2, 3, 4], [7]], 2)\\ndecode([['0b100', '0b1001', '0b10000'], ['0b110001']], 2)\\n\\nSample Output:\\ntoBin = ['0b1', '0b10', '0b1111', '0b100', '0b111']\\ntoInt = [1, 2, 15, 4, 7]\\nencode = [['0b100', '0b1001', '0b10000'], ['0b110001']]\\ndecode = [[2, 3, 4], [7]]\\n\""
      ]
     },
     "execution_count": 21,
     "metadata": {},
     "output_type": "execute_result"
    }
   ],
   "source": [
    "###########---TESTING CELL---#############\n",
    "\n",
    "#This cell would be used to give you the automated mark\n",
    "\n",
    "'''\n",
    "Sample Input:\n",
    "toBin([1, 2, 15, 4, 7])\n",
    "toInt(['0b1', '0b10', '0b1111', '0b100', '0b111'])\n",
    "encode([[2, 3, 4], [7]], 2)\n",
    "decode([['0b100', '0b1001', '0b10000'], ['0b110001']], 2)\n",
    "\n",
    "Sample Output:\n",
    "toBin = ['0b1', '0b10', '0b1111', '0b100', '0b111']\n",
    "toInt = [1, 2, 15, 4, 7]\n",
    "encode = [['0b100', '0b1001', '0b10000'], ['0b110001']]\n",
    "decode = [[2, 3, 4], [7]]\n",
    "'''\n"
   ]
  },
  {
   "cell_type": "markdown",
   "metadata": {
    "nbgrader": {
     "grade": false,
     "grade_id": "code-legibility",
     "locked": true,
     "schema_version": 1,
     "solution": false
    }
   },
   "source": [
    "## Code Legibility (3 Points)\n",
    "----------\n",
    "Your code will be marked on commenting and code legibility.<br>\n",
    "The mark breakdown is as follows:<br>\n",
    "1 mark for using appropriate variable names that indicate what is being stored in that variable<br>\n",
    "1 mark for leaving comments on major parts of your code such as where you read the file or calculate a summation<br>\n",
    "1 mark for general legibility. The TA's should be able to understand your code without spending hours reading it. For example do not put your code in one very long line as this is hard for someone else reading your code to understand\n",
    "\n",
    "<h6>Ignore the empty cell below. You do NOT need to type anything in it </h6>"
   ]
  },
  {
   "cell_type": "markdown",
   "metadata": {
    "nbgrader": {
     "grade": true,
     "grade_id": "cell-a74c0ec7abd29637",
     "locked": false,
     "points": 3,
     "schema_version": 1,
     "solution": true
    }
   },
   "source": []
  },
  {
   "cell_type": "markdown",
   "metadata": {
    "nbgrader": {
     "grade": false,
     "grade_id": "major_3_v2_dq",
     "locked": true,
     "schema_version": 1,
     "solution": false
    }
   },
   "source": [
    "## Design Questions (4 Points)\n",
    "--------------\n",
    "4 design questions either based on your program or testing your understanding of concepts discussed in lab and tutorial\n",
    "\n",
    "Enter your answers into the Markdown cell below."
   ]
  },
  {
   "cell_type": "markdown",
   "metadata": {
    "nbgrader": {
     "grade": true,
     "grade_id": "major_3_v2_dq_answers",
     "locked": false,
     "points": 4,
     "schema_version": 1,
     "solution": true
    }
   },
   "source": [
    "<pre>\n",
    "Your Answer Here (DO NOT DELETE &lt;pre&gt; or &lt;/pre&gt;)\n",
    "</pre>"
   ]
  },
  {
   "cell_type": "markdown",
   "metadata": {
    "nbgrader": {
     "grade": false,
     "grade_id": "major_3_v2_test_plan",
     "locked": true,
     "schema_version": 1,
     "solution": false
    }
   },
   "source": [
    "## Testing Plan (3 Points)\n",
    "---------------\n",
    "Produce a test plan in the Markdown cell below, in the following form:\n",
    "\n",
    "`Test i for function j\n",
    "Input: inputs for function j\n",
    "Expected Output: expected output for function j\n",
    "Actual Output: actual output for function j\n",
    "Result: Pass/Fail\n",
    "`\n",
    "\n",
    "Note: The actual output should be what the program produces, even if your output does not match the expected output.\n",
    "\n",
    "You must have $NO$ $LESS$ $THAN$ $3$ $TEST$ $CASES$.\n",
    "\n",
    "One case must be a $normal$ test case.\n",
    "\n",
    "One case must be a $boundary$ test case (testing the extremes of the input domain).\n",
    "\n",
    "One case must be an $abnormal$ test case (incorrect data types, try to crash the program)."
   ]
  },
  {
   "cell_type": "markdown",
   "metadata": {
    "nbgrader": {
     "grade": true,
     "grade_id": "major_3_v2_test_plan_answers",
     "locked": false,
     "points": 3,
     "schema_version": 1,
     "solution": true
    }
   },
   "source": [
    "<pre>\n",
    "Your Answer Here (DO NOT DELETE &lt;pre&gt; or &lt;/pre&gt;)\n",
    "</pre>"
   ]
  }
 ],
 "metadata": {
  "celltoolbar": "Create Assignment",
  "kernelspec": {
   "display_name": "Python 3",
   "language": "python",
   "name": "python3"
  },
  "language_info": {
   "codemirror_mode": {
    "name": "ipython",
    "version": 3
   },
   "file_extension": ".py",
   "mimetype": "text/x-python",
   "name": "python",
   "nbconvert_exporter": "python",
   "pygments_lexer": "ipython3",
   "version": "3.6.5"
  }
 },
 "nbformat": 4,
 "nbformat_minor": 2
}
