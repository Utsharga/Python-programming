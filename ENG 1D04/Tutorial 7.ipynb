{
 "cells": [
  {
   "cell_type": "code",
   "execution_count": 7,
   "metadata": {},
   "outputs": [
    {
     "name": "stdout",
     "output_type": "stream",
     "text": [
      "The year you were born1\n",
      "You are an adult\n"
     ]
    }
   ],
   "source": [
    "#IF statements\n",
    "year = int(input(\"The year you were born\"))\n",
    "if (year < 2000):\n",
    "    print (\"You are an adult\")\n",
    "elif (year > 2000 and year < 2007):\n",
    "    print (\"You are a teenager\")\n",
    "elif (year > 2007):\n",
    "    print (\"You are a child\")\n",
    "else:\n",
    "    print (\"Error\")"
   ]
  },
  {
   "cell_type": "code",
   "execution_count": 28,
   "metadata": {},
   "outputs": [],
   "source": [
    "#leap year\n",
    "def leapYear(year):\n",
    "    leap = False\n",
    "    try:\n",
    "        if year > 0:\n",
    "            if (year%4 == 0) and ((year%100 != 0) or (year%400 == 0)):\n",
    "                leap = True\n",
    "            else:\n",
    "                leap = False\n",
    "            return leap\n",
    "        else:\n",
    "            print (\"Input must be greater than 0\")\n",
    "    except TypeError:\n",
    "        print(\"You entered an invalid type\")\n",
    "    except:\n",
    "        print (\"Something went wrong\") \n",
    "    "
   ]
  },
  {
   "cell_type": "code",
   "execution_count": 29,
   "metadata": {},
   "outputs": [
    {
     "name": "stdout",
     "output_type": "stream",
     "text": [
      "Input must be greater than 0\n"
     ]
    }
   ],
   "source": [
    "leapYear(0)"
   ]
  },
  {
   "cell_type": "code",
   "execution_count": 30,
   "metadata": {},
   "outputs": [
    {
     "name": "stdout",
     "output_type": "stream",
     "text": [
      "You entered an invalid type\n"
     ]
    }
   ],
   "source": [
    "#Error expected because strings not supported\n",
    "leapYear(\"2000\")"
   ]
  },
  {
   "cell_type": "code",
   "execution_count": 31,
   "metadata": {},
   "outputs": [
    {
     "name": "stdout",
     "output_type": "stream",
     "text": [
      "Input must be greater than 0\n"
     ]
    }
   ],
   "source": [
    "#Will be done Later\n",
    "leapYear(False)"
   ]
  },
  {
   "cell_type": "code",
   "execution_count": 33,
   "metadata": {},
   "outputs": [
    {
     "data": {
      "text/plain": [
       "False"
      ]
     },
     "execution_count": 33,
     "metadata": {},
     "output_type": "execute_result"
    }
   ],
   "source": [
    "#float Error\n",
    "leapYear(2000.75)"
   ]
  },
  {
   "cell_type": "code",
   "execution_count": null,
   "metadata": {},
   "outputs": [],
   "source": []
  }
 ],
 "metadata": {
  "kernelspec": {
   "display_name": "Python 3",
   "language": "python",
   "name": "python3"
  },
  "language_info": {
   "codemirror_mode": {
    "name": "ipython",
    "version": 3
   },
   "file_extension": ".py",
   "mimetype": "text/x-python",
   "name": "python",
   "nbconvert_exporter": "python",
   "pygments_lexer": "ipython3",
   "version": "3.6.5"
  }
 },
 "nbformat": 4,
 "nbformat_minor": 2
}
