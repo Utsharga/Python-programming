{
 "cells": [
  {
   "cell_type": "code",
   "execution_count": 3,
   "metadata": {},
   "outputs": [
    {
     "data": {
      "text/plain": [
       "10.285714285714286"
      ]
     },
     "execution_count": 3,
     "metadata": {},
     "output_type": "execute_result"
    }
   ],
   "source": [
    "class Student:\n",
    "    \n",
    "    def __init__(self,name,stnumber,credit,points):\n",
    "        self.name = name\n",
    "        self.stnumber = stnumber\n",
    "        self.credit = float(credit)\n",
    "        self.points = float(points)\n",
    "    \n",
    "    def getName(self):\n",
    "        return self.name\n",
    "    \n",
    "    def getStNumber(self):\n",
    "        return self.stnumber\n",
    "    \n",
    "    def getCredit(self):\n",
    "        return self.credit\n",
    "    \n",
    "    def getPoints(self):\n",
    "        return self.points\n",
    "    \n",
    "    def gpa(self):\n",
    "        return self.points/self.credit\n",
    "    \n",
    "aStudent = Student(\"Bob\", 567834, 7, 72)\n",
    "aStudent.gpa()"
   ]
  },
  {
   "cell_type": "code",
   "execution_count": 4,
   "metadata": {},
   "outputs": [],
   "source": [
    "from random import *\n",
    "from string import ascii_uppercase as u\n",
    "file = open(\"students.txt\", \"w\")\n",
    "for i in range(10000):\n",
    "    name = \"\".join(choice(u) for i in range(8))\n",
    "    num = str(randint(400000000, 400999999))\n",
    "    credits = randint(30, 40)\n",
    "    points = str(int(credits * (randint(4,11) + random())))\n",
    "    file.write(name + \"\\t\" + num + \"\\t\" + str(credits))\n",
    "    file.write(\"\\t\" + points + \"\\n\")\n",
    "file.close()"
   ]
  },
  {
   "cell_type": "code",
   "execution_count": 5,
   "metadata": {},
   "outputs": [],
   "source": [
    "def createStudentList():\n",
    "    #open the file for reading\n",
    "    infile = open(\"students.txt\", \"r\")\n",
    "    \n",
    "    #create an empty list of students\n",
    "    students = []\n",
    "    \n",
    "    #fill the list of students\n",
    "    for line in infile:\n",
    "        name, stnumber, credit, points = line.split(\"\\t\")\n",
    "        student = Student(name, stnumber, credit, points)\n",
    "        \n",
    "        #add the student to the list\n",
    "        students.append(student)\n",
    "    return students\n",
    "\n",
    "def highGPA(stList):\n",
    "    #set the best to be the first gpa\n",
    "    bestGPA = stList[0].gpa()\n",
    "    \n",
    "    for student in stList:\n",
    "        if student.gpa() > bestGPA:\n",
    "            bestGPA = student.gpa()\n",
    "    return bestGPA\n",
    "\n",
    "def gpaStudentList(grade, stList):\n",
    "    #create an empty list of students\n",
    "    gpaList = []\n",
    "    \n",
    "    for student in stList:\n",
    "        if student.gpa() == grade:\n",
    "            gpaList.append(student)\n",
    "    return gpaList"
   ]
  },
  {
   "cell_type": "code",
   "execution_count": 6,
   "metadata": {},
   "outputs": [
    {
     "name": "stdout",
     "output_type": "stream",
     "text": [
      "11.975\n",
      "HNMHVDJR\n"
     ]
    }
   ],
   "source": [
    "myList = createStudentList()\n",
    "len(myList)\n",
    "best = highGPA(myList)\n",
    "bestGpas = gpaStudentList(best, myList)\n",
    "\n",
    "print(best)\n",
    "\n",
    "for student in bestGpas:\n",
    "    print (student.getName())"
   ]
  },
  {
   "cell_type": "code",
   "execution_count": 7,
   "metadata": {},
   "outputs": [
    {
     "name": "stdout",
     "output_type": "stream",
     "text": [
      "0\n"
     ]
    }
   ],
   "source": [
    "def linearSearch(x, myList):\n",
    "    for index in range(len(myList)):\n",
    "        if myList[index] == x:\n",
    "            return index\n",
    "    return None\n",
    "\n",
    "print(linearSearch(2, [2,7,9,2,1,0]))"
   ]
  },
  {
   "cell_type": "code",
   "execution_count": 30,
   "metadata": {},
   "outputs": [
    {
     "name": "stdout",
     "output_type": "stream",
     "text": [
      "[1, 3, 5, 9, 7, 2]\n",
      "[1, 2, 5, 9, 7, 3]\n",
      "[1, 2, 3, 9, 7, 5]\n",
      "[1, 2, 3, 5, 7, 9]\n",
      "[1, 2, 3, 5, 7, 9]\n",
      "[1, 2, 3, 5, 7, 9]\n",
      "[1, 2, 3, 5, 7, 9]\n"
     ]
    }
   ],
   "source": [
    "def selectionSort(lst):\n",
    "    for i in range(0, len(lst)):\n",
    "        minn = i\n",
    "        for j in range(i+1, len(lst)):\n",
    "            if lst[j] < lst[minn]:\n",
    "                minn = j\n",
    "        lst[i], lst[minn] = lst[minn], lst[i] \n",
    "        print(lst)\n",
    "\n",
    "lstA = [7,3,5,9,1,2]\n",
    "selectionSort(lstA)\n",
    "print(lstA)"
   ]
  },
  {
   "cell_type": "code",
   "execution_count": 67,
   "metadata": {},
   "outputs": [
    {
     "name": "stdout",
     "output_type": "stream",
     "text": [
      "3 2 3\n",
      "4 1 4\n",
      "14 11 14\n",
      "15 10 15\n",
      "20 16 20\n",
      "21 15 21\n",
      "<__main__.Particle object at 0x000001AA54D30B70>\n"
     ]
    }
   ],
   "source": [
    "class Particle:\n",
    "    \n",
    "    def __init__(self, prot, neut, elec):\n",
    "        self.p = prot\n",
    "        self.n = neut\n",
    "        self.e = elec\n",
    "    \n",
    "    def getP(self):\n",
    "        return self.p\n",
    "    \n",
    "    def getN(self):\n",
    "        return self.n\n",
    "        \n",
    "    def getE(self):\n",
    "        return self.e\n",
    "    \n",
    "    def betaDecay(self):\n",
    "        self.p = self.p + 1\n",
    "        self.n = self.n - 1\n",
    "        self.e = self.e + 1\n",
    "        \n",
    "    def smash(self, otherParticle):\n",
    "        newP = self.p + otherParticle.getP()\n",
    "        newN = self.n + otherParticle.getN()\n",
    "        newE = self.e + otherParticle.getE()\n",
    "        return Particle(newP,newN,newE)\n",
    "    \n",
    "def LHC(particles):\n",
    "    newParticle = particles[0]\n",
    "    for i in range(1, len(particles)):\n",
    "        newParticle = newParticle.smash(particles[i])\n",
    "        print(newParticle.getP(), newParticle.getN(), newParticle.getE())\n",
    "        newParticle.betaDecay()\n",
    "        print(newParticle.getP(), newParticle.getN(), newParticle.getE())\n",
    "    return newParticle\n",
    "    \n",
    "\n",
    "print(LHC([Particle(1, 0, 1),Particle(2, 2, 2),Particle(10, 10, 10),Particle(5, 6, 5)]))"
   ]
  },
  {
   "cell_type": "code",
   "execution_count": null,
   "metadata": {},
   "outputs": [],
   "source": []
  }
 ],
 "metadata": {
  "kernelspec": {
   "display_name": "Python 3",
   "language": "python",
   "name": "python3"
  },
  "language_info": {
   "codemirror_mode": {
    "name": "ipython",
    "version": 3
   },
   "file_extension": ".py",
   "mimetype": "text/x-python",
   "name": "python",
   "nbconvert_exporter": "python",
   "pygments_lexer": "ipython3",
   "version": "3.6.5"
  }
 },
 "nbformat": 4,
 "nbformat_minor": 2
}
