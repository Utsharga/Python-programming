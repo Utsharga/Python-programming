{
 "cells": [
  {
   "cell_type": "code",
   "execution_count": null,
   "metadata": {},
   "outputs": [],
   "source": [
    "from Student import Student\n",
    "\n",
    "def create_student():\n",
    "    student_name = input(\"Enter your student name:   \")\n",
    "    student_id = input (\"Enter your Student id:   \")\n",
    "    student_units = int(input(\"Enter total number of units:   \"))\n",
    "    student_points = int(input(\"Enter total number of points:   \"))\n",
    "    \n",
    "### assigning a class\n",
    "    \n",
    "    new_student = Student(student_name, student_id)\n",
    "    new_student.set_units(student_units)\n",
    "    new_student.set_points(student_points)\n",
    "    new_student.calculate_gpa()\n",
    "    return (new_student)\n",
    "\n",
    "def display_student_records(arg_student):\n",
    "    student = arg_student\n",
    "    print(\"Student Name: \", student.name, \"\\n\")\n",
    "    print (\"Student ID: \", student.student_id, \"\\n\")\n",
    "    print(\"GPA: \", student.gpa, \"\\n\")\n",
    "    \n",
    "def main():\n",
    "    student_list = []\n",
    "    for i in range (5):\n",
    "        new_student = create_student()\n",
    "        student_list.append(new_student)\n",
    "        display_student_records(student_list[i])\n",
    "\n",
    "# student_name = [Cosmo Kramer, Jerry Seinfeld, Elaine Benes, George Costanza, Newmam]\n",
    "# student_number = [400111111, 400222222, 400333333, 400444444, 400555555]\n",
    "# total_units = [37,34,37,40,30]\n",
    "# total_points = [370, 323, 444, 156, 216] "
   ]
  },
  {
   "cell_type": "code",
   "execution_count": null,
   "metadata": {},
   "outputs": [],
   "source": []
  },
  {
   "cell_type": "code",
   "execution_count": null,
   "metadata": {},
   "outputs": [],
   "source": []
  }
 ],
 "metadata": {
  "kernelspec": {
   "display_name": "Python 3",
   "language": "python",
   "name": "python3"
  },
  "language_info": {
   "codemirror_mode": {
    "name": "ipython",
    "version": 3
   },
   "file_extension": ".py",
   "mimetype": "text/x-python",
   "name": "python",
   "nbconvert_exporter": "python",
   "pygments_lexer": "ipython3",
   "version": "3.6.5"
  }
 },
 "nbformat": 4,
 "nbformat_minor": 2
}
