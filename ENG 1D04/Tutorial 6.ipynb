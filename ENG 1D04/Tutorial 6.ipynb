{
 "cells": [
  {
   "cell_type": "code",
   "execution_count": 2,
   "metadata": {},
   "outputs": [
    {
     "name": "stdout",
     "output_type": "stream",
     "text": [
      "Hello World\n"
     ]
    }
   ],
   "source": [
    "def Hello():\n",
    "    print (\"Hello World\")\n",
    "    \n",
    "Hello()"
   ]
  },
  {
   "cell_type": "code",
   "execution_count": 6,
   "metadata": {},
   "outputs": [],
   "source": [
    "def Hello2(name):\n",
    "    print (\"Hello\", name)    "
   ]
  },
  {
   "cell_type": "code",
   "execution_count": 7,
   "metadata": {},
   "outputs": [
    {
     "name": "stdout",
     "output_type": "stream",
     "text": [
      "Hello Bob\n"
     ]
    }
   ],
   "source": [
    "Hello2(\"Bob\")"
   ]
  },
  {
   "cell_type": "code",
   "execution_count": 8,
   "metadata": {},
   "outputs": [],
   "source": [
    "def sumTwo(x,y):\n",
    "    print(x + y)"
   ]
  },
  {
   "cell_type": "code",
   "execution_count": 9,
   "metadata": {},
   "outputs": [
    {
     "name": "stdout",
     "output_type": "stream",
     "text": [
      "15\n"
     ]
    }
   ],
   "source": [
    "sumTwo(5,10)"
   ]
  },
  {
   "cell_type": "code",
   "execution_count": 11,
   "metadata": {},
   "outputs": [
    {
     "name": "stdout",
     "output_type": "stream",
     "text": [
      "140\n"
     ]
    }
   ],
   "source": [
    "spam = [1,2,4,12,36,29,56]\n",
    "\n",
    "def sumList(spam):\n",
    "    total = 0\n",
    "    for element in spam:\n",
    "        total +=element\n",
    "    print(total)\n",
    "    \n",
    "sumList(spam)"
   ]
  },
  {
   "cell_type": "code",
   "execution_count": 12,
   "metadata": {},
   "outputs": [
    {
     "name": "stdout",
     "output_type": "stream",
     "text": [
      "19\n"
     ]
    }
   ],
   "source": [
    "myList = [3, 10, 6]\n",
    "sumList(myList)"
   ]
  },
  {
   "cell_type": "code",
   "execution_count": 13,
   "metadata": {},
   "outputs": [],
   "source": [
    "#return a value from a function to be stored in a module\n",
    "def sumList2(spam):\n",
    "    total = 0\n",
    "    for element in spam:\n",
    "        total +=element\n",
    "    return (total)"
   ]
  },
  {
   "cell_type": "code",
   "execution_count": 14,
   "metadata": {},
   "outputs": [
    {
     "name": "stdout",
     "output_type": "stream",
     "text": [
      "190\n"
     ]
    }
   ],
   "source": [
    "x = sumList2(range(20))\n",
    "print(x)"
   ]
  },
  {
   "cell_type": "code",
   "execution_count": 16,
   "metadata": {},
   "outputs": [],
   "source": [
    "def sumDiff(a,b):\n",
    "    summ = a + b\n",
    "    diff = a - b\n",
    "    return summ, diff    "
   ]
  },
  {
   "cell_type": "code",
   "execution_count": 23,
   "metadata": {},
   "outputs": [
    {
     "name": "stdout",
     "output_type": "stream",
     "text": [
      "-1\n"
     ]
    }
   ],
   "source": [
    "sum2 = sumDiff(5,6)\n",
    "print (sum2[1])"
   ]
  },
  {
   "cell_type": "code",
   "execution_count": 27,
   "metadata": {},
   "outputs": [
    {
     "ename": "UnboundLocalError",
     "evalue": "local variable 'ham' referenced before assignment",
     "output_type": "error",
     "traceback": [
      "\u001b[1;31m---------------------------------------------------------------------------\u001b[0m",
      "\u001b[1;31mUnboundLocalError\u001b[0m                         Traceback (most recent call last)",
      "\u001b[1;32m<ipython-input-27-d17cf8e5fb6d>\u001b[0m in \u001b[0;36m<module>\u001b[1;34m()\u001b[0m\n\u001b[0;32m      7\u001b[0m     \u001b[1;32mreturn\u001b[0m \u001b[0mham\u001b[0m\u001b[1;33m\u001b[0m\u001b[0m\n\u001b[0;32m      8\u001b[0m \u001b[1;33m\u001b[0m\u001b[0m\n\u001b[1;32m----> 9\u001b[1;33m \u001b[0mhamPlusOne\u001b[0m\u001b[1;33m(\u001b[0m\u001b[1;33m)\u001b[0m\u001b[1;33m\u001b[0m\u001b[0m\n\u001b[0m",
      "\u001b[1;32m<ipython-input-27-d17cf8e5fb6d>\u001b[0m in \u001b[0;36mhamPlusOne\u001b[1;34m()\u001b[0m\n\u001b[0;32m      4\u001b[0m \u001b[1;33m\u001b[0m\u001b[0m\n\u001b[0;32m      5\u001b[0m \u001b[1;32mdef\u001b[0m \u001b[0mhamPlusOne\u001b[0m\u001b[1;33m(\u001b[0m\u001b[1;33m)\u001b[0m\u001b[1;33m:\u001b[0m\u001b[1;33m\u001b[0m\u001b[0m\n\u001b[1;32m----> 6\u001b[1;33m     \u001b[0mham\u001b[0m \u001b[1;33m=\u001b[0m \u001b[0mham\u001b[0m \u001b[1;33m+\u001b[0m \u001b[1;36m1\u001b[0m\u001b[1;33m\u001b[0m\u001b[0m\n\u001b[0m\u001b[0;32m      7\u001b[0m     \u001b[1;32mreturn\u001b[0m \u001b[0mham\u001b[0m\u001b[1;33m\u001b[0m\u001b[0m\n\u001b[0;32m      8\u001b[0m \u001b[1;33m\u001b[0m\u001b[0m\n",
      "\u001b[1;31mUnboundLocalError\u001b[0m: local variable 'ham' referenced before assignment"
     ]
    }
   ],
   "source": [
    "#functions cannot change values outside of the function\n",
    "#it creates a new variable of the same name type within the function\n",
    "ham = 4\n",
    "\n",
    "def hamPlusOne():\n",
    "    ham = ham + 1\n",
    "    return ham\n",
    "\n",
    "hamPlusOne()"
   ]
  },
  {
   "cell_type": "code",
   "execution_count": 31,
   "metadata": {},
   "outputs": [
    {
     "name": "stdout",
     "output_type": "stream",
     "text": [
      "5\n"
     ]
    }
   ],
   "source": [
    "ham = 4\n",
    "\n",
    "def hamPlusOne(x):\n",
    "    x = x + 1\n",
    "    return x\n",
    "\n",
    "print(hamPlusOne(ham))"
   ]
  },
  {
   "cell_type": "code",
   "execution_count": 32,
   "metadata": {},
   "outputs": [
    {
     "name": "stdout",
     "output_type": "stream",
     "text": [
      "[6, 10, 12, 18]\n"
     ]
    }
   ],
   "source": [
    "spam = [6,10,12]\n",
    "def spamAppend(spam):\n",
    "    spam.append(18)\n",
    "    return spam\n",
    "print(spamAppend(spam))\n",
    "\n",
    "#You cannot change the variable in the function\n",
    "#You can edit a mutable function, e.g. add a value to a list\n",
    "#Cannot assign a new variable, creats a local variable if we try to do so "
   ]
  },
  {
   "cell_type": "code",
   "execution_count": 34,
   "metadata": {},
   "outputs": [
    {
     "name": "stdout",
     "output_type": "stream",
     "text": [
      "[1, 4, 6]\n",
      "[6, 10, 12, 18]\n"
     ]
    }
   ],
   "source": [
    "spam = [6,10,12]\n",
    "def spamAppend(spam):\n",
    "    spam.append(18)\n",
    "    spam = [1,4] #creates local variable\n",
    "    spam.append(6)\n",
    "    return spam\n",
    "print(spamAppend(spam))\n",
    "print(spam)"
   ]
  },
  {
   "cell_type": "code",
   "execution_count": 36,
   "metadata": {},
   "outputs": [
    {
     "name": "stdout",
     "output_type": "stream",
     "text": [
      "[4, 5, 6]\n",
      "[1, 2, 3]\n"
     ]
    }
   ],
   "source": [
    "#Midterm Question\n",
    "lst = [1,2,3]\n",
    "\n",
    "def fun(lst):\n",
    "    lst = [4,5,6]\n",
    "    return lst #if not returned \n",
    "    \n",
    "print(fun(lst))    \n",
    "print(lst)"
   ]
  },
  {
   "cell_type": "code",
   "execution_count": 39,
   "metadata": {},
   "outputs": [],
   "source": [
    "import pylab\n",
    "\n",
    "def main():\n",
    "    x = range(-2,2)\n",
    "    y = []\n",
    "    for x_value in x:\n",
    "        y.append(f(x_value))\n",
    "    graph(x,y)\n",
    "\n",
    "# f(x) = x^4 + 4x + 5\n",
    "def f(x):\n",
    "    y = x**4 + 4*x + 5\n",
    "    return y\n",
    "\n",
    "def graph(x,y):\n",
    "    pylab.plot(x,y)\n",
    "    pylab.show()"
   ]
  },
  {
   "cell_type": "code",
   "execution_count": 40,
   "metadata": {},
   "outputs": [
    {
     "data": {
      "image/png": "[encoded data removed]",
      "text/plain": [
       "<Figure size 432x288 with 1 Axes>"
      ]
     },
     "metadata": {},
     "output_type": "display_data"
    }
   ],
   "source": [
    "main()"
   ]
  },
  {
   "cell_type": "code",
   "execution_count": null,
   "metadata": {},
   "outputs": [],
   "source": []
  }
 ],
 "metadata": {
  "kernelspec": {
   "display_name": "Python 3",
   "language": "python",
   "name": "python3"
  },
  "language_info": {
   "codemirror_mode": {
    "name": "ipython",
    "version": 3
   },
   "file_extension": ".py",
   "mimetype": "text/x-python",
   "name": "python",
   "nbconvert_exporter": "python",
   "pygments_lexer": "ipython3",
   "version": "3.6.5"
  }
 },
 "nbformat": 4,
 "nbformat_minor": 2
}
