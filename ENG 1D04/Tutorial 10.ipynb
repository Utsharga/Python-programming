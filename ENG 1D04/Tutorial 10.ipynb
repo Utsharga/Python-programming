{
 "cells": [
  {
   "cell_type": "code",
   "execution_count": 1,
   "metadata": {},
   "outputs": [],
   "source": [
    "class Human:\n",
    "    def walk(self,steps):\n",
    "        for i in range(steps):\n",
    "            print(\"step!\", end = \" \")\n",
    "    \n",
    "    def sleep(self, hours): #hours is the normal parameter #sleep is an accessor\n",
    "        print(self.name + \" says \" + (\"zzzzz\"*hours))\n",
    "    \n",
    "    def __init__ (self, name):\n",
    "        self.age = 0\n",
    "        self.name = name\n",
    "    \n",
    "    def setName(self, name): #mutator because it changes the value of the variable\n",
    "        self.name = name\n",
    "    \n",
    "    def haveBirthday(self): #mutator because it changes the value of the variable, \"self.age\"\n",
    "        print(\"Happy Birthday to \" + self.name + \"!\")\n",
    "        self.age = self.age + 1\n",
    "    \n",
    "    def getAge(self): #getAge is an accessor\n",
    "        return self.age\n",
    "\n",
    "    #self is the only formal parameter"
   ]
  },
  {
   "cell_type": "code",
   "execution_count": 2,
   "metadata": {},
   "outputs": [
    {
     "name": "stdout",
     "output_type": "stream",
     "text": [
      "John says zzzzzzzzzzzzzzzzzzzzzzzzzzzzzzzzzzzzzzzz\n",
      "step! step! step! step! step! step! step! step! \n",
      " 0\n",
      "Happy Birthday to 1d04!\n",
      "1\n"
     ]
    }
   ],
   "source": [
    "john = Human(\"John\")\n",
    "eng1d04 = Human(\"1d04\")\n",
    "john.sleep(8)\n",
    "john.walk(8)\n",
    "\n",
    "print(\"\\n\", eng1d04.getAge())\n",
    "eng1d04.haveBirthday()\n",
    "print(eng1d04.getAge())"
   ]
  },
  {
   "cell_type": "code",
   "execution_count": 8,
   "metadata": {},
   "outputs": [],
   "source": [
    "class Vector2D:\n",
    "    def __init__(self,x,y):\n",
    "        self.x = x\n",
    "        self.y = y\n",
    "    def xComponent(self):\n",
    "        return self.x\n",
    "    def yComponent(self):\n",
    "        return self.y\n",
    "    def magnitude(self):\n",
    "        return (self.x**2 + self.y**2)**0.5\n",
    "\n",
    "    \n",
    "vector = Vector2D(7,3)"
   ]
  },
  {
   "cell_type": "code",
   "execution_count": 4,
   "metadata": {},
   "outputs": [],
   "source": [
    "from random import *\n",
    "from string import ascii_uppercase as u\n",
    "file = open(\"students.txt\", \"w\")\n",
    "for i in range(100):\n",
    "    name = \"\".join(choice(u) for i in range(8))\n",
    "    num = str(randint(400000000, 400999999))\n",
    "    credits = randint(30, 40)\n",
    "    points = str(int(credits * (randint(4,11) + random())))\n",
    "    file.write(name + \"\\t\" + num + \"\\t\" + str(credits))\n",
    "    file.write(\"\\t\" + points + \"\\n\")\n",
    "file.close()"
   ]
  },
  {
   "cell_type": "code",
   "execution_count": 5,
   "metadata": {},
   "outputs": [
    {
     "data": {
      "text/plain": [
       "10.285714285714286"
      ]
     },
     "execution_count": 5,
     "metadata": {},
     "output_type": "execute_result"
    }
   ],
   "source": [
    "class Student:\n",
    "    def __init__(self,name,stnumber,credit,points):\n",
    "        self.name = name\n",
    "        self.stnumber = stnumber\n",
    "        self.credit = float(credit)\n",
    "        self.points = float(points)\n",
    "    \n",
    "    def getName(self):\n",
    "        return self.name\n",
    "    \n",
    "    def getStNumber(self):\n",
    "        return self.stnumber\n",
    "    \n",
    "    def getCredit(self):\n",
    "        return self.credit\n",
    "    \n",
    "    def getPoints(self):\n",
    "        return self.points\n",
    "    \n",
    "    def gpa(self): #not an accessor or a mutator\n",
    "        return self.points/self.credit\n",
    "    \n",
    "aStudent = Student(\"Bob\", 567834, 7, 72)\n",
    "aStudent.getPoints()\n",
    "aStudent.gpa()"
   ]
  },
  {
   "cell_type": "code",
   "execution_count": 14,
   "metadata": {},
   "outputs": [],
   "source": [
    "def main():\n",
    "    #open the file for reading\n",
    "    infile = open(\"students.txt\", \"r\")\n",
    "    #set best to be the first student\n",
    "    infoString = infile.readline()\n",
    "    name, stnumber, credit, points = infoString.split(\"\\t\")\n",
    "    best = Student(name, stnumber, credit, points)\n",
    "    #print(name, stnumber, credit, points)\n",
    "    \n",
    "    for line in infile:\n",
    "        name, stnumber, credit, points = line.split(\"\\t\")\n",
    "        student = Student(name, stnumber, credit, points)\n",
    "        #if this student is best so far, remember it.\n",
    "        if student.gpa() > best.gpa():\n",
    "            best = student\n",
    "    print(\"Best GPA is\",best.getName(),\"with a GPA of\",best.gpa())"
   ]
  },
  {
   "cell_type": "code",
   "execution_count": 15,
   "metadata": {},
   "outputs": [
    {
     "name": "stdout",
     "output_type": "stream",
     "text": [
      "Best GPA is CFAHFIYS with a GPA of 11.947368421052632\n"
     ]
    }
   ],
   "source": [
    "main()"
   ]
  },
  {
   "cell_type": "code",
   "execution_count": null,
   "metadata": {},
   "outputs": [],
   "source": []
  }
 ],
 "metadata": {
  "kernelspec": {
   "display_name": "Python 3",
   "language": "python",
   "name": "python3"
  },
  "language_info": {
   "codemirror_mode": {
    "name": "ipython",
    "version": 3
   },
   "file_extension": ".py",
   "mimetype": "text/x-python",
   "name": "python",
   "nbconvert_exporter": "python",
   "pygments_lexer": "ipython3",
   "version": "3.6.5"
  }
 },
 "nbformat": 4,
 "nbformat_minor": 2
}
