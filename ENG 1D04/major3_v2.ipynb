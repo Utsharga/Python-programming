{
 "cells": [
  {
   "cell_type": "markdown",
   "metadata": {
    "nbgrader": {
     "grade": false,
     "grade_id": "major_3_v4_title",
     "locked": true,
     "schema_version": 1,
     "solution": false
    }
   },
   "source": [
    "# <center>Major Assignment 3 Practice 2</center>\n",
    "-------------\n",
    "<b><center>ENGINEER 1D04</center><b>\n",
    "<b><center>Dr. Asghar Bokhari</center><b>\n",
    "<b><center>McMaster University, Fall 2018</center><b>"
   ]
  },
  {
   "cell_type": "markdown",
   "metadata": {},
   "source": [
    "## This is one of the old versions for major 3 do NOT expect to see this on your major"
   ]
  },
  {
   "cell_type": "markdown",
   "metadata": {
    "nbgrader": {
     "grade": false,
     "grade_id": "major_3_v4_instructions",
     "locked": true,
     "schema_version": 1,
     "solution": false
    }
   },
   "source": [
    "## Background\n",
    "----------------\n",
    "In this assignment you will implement a library of functions that can be used to draw a histogram (bar graph) in ASCII art style. Your library will create a *list* of strings that, when printed appropriately, form a histogram of a list of data points, and is made of a given character. For example, if every element of the list *[3, 2, 4]* using the string character **`#`** is printed, this would be the result:\n",
    "\n",
    "                                                ### \n",
    "                                                ##  \n",
    "                                                ####\n",
    "The *returned list* for this histogram should look like this:\n",
    "<center>[\"###&nbsp;\", \"##&nbsp;&nbsp;\", \"####\"] </center>\n",
    "Notice that the strings in this list are padded by space characters on the right so that all the strings will be of equal length. This length is determined by the greatest value in the list to be plotted. In the example above, the length of the strings in the list is 4. When this histogram is flipped horizontally and printed `element by element,` the following results:\n",
    "                                                 ###\n",
    "                                                  ##\n",
    "                                                ####\n",
    "The *returned list* for this histogram should look like this:\n",
    "<center>[\" ###\", \"&nbsp;&nbsp;##\", \"####\"] </center>\n",
    "Design, implement, and test a program that satisfies the requirements below.\n",
    "\n",
    "-------------------\n",
    "## Requirements\n",
    "1.  Implement **makeRow(w, m, c)** which returns the rows for the *unflipped* histogram by doing the following:<br><br>\n",
    "    - Takes the integers **w** and **m** and a single string character **c**.\n",
    "    - Returns a string composed of **w * c** and enough spaces on the right to reach a total length of **m**.<br><br>\n",
    "2.  Implement **histogram(a, c)** which returns the *unflipped* histogram by doing the following: <br><br>\n",
    "    - Takes in the list of integers **a** and a single string character **c**.\n",
    "    - Uses **makeRow** to create a list of strings that forms an unflipped histogram with the single string character **c** and the elements in the list **a**.\n",
    "    - Returns the list of strings that forms the unflipped histogram.<br><br>\n",
    "\n",
    "3.  Implement **flipHist(a, c)** which returns the *flipped* histogram by doing the following:<br><br>\n",
    "    - Takes in the list of integers **a** and a single string character **c**.\n",
    "    - Uses **histogram** to create an *unflipped* histogram with **a** and **c** \n",
    "    - Returns the list of strings that forms the flipped histogram.<br><br>\n",
    "4. The program requires very little besides the function definitions. There is no main().<br><br>\n",
    "\n",
    "5. Your name, MacID, student number, and the date are given in comments at the top of the first Python cell below.<br><br>\n",
    "\n",
    "6. Your answers to the design questions and test plan are given in the appropriate Markdown cells below.<br><br>\n",
    "\n",
    "7. Your program MUST have valid Python syntax and it must run without errors. Ensure that your program runs properly by running it before you submit.<br><br>\n",
    "\n",
    "8. You must sign out with a TA or IAI after you have submitted your lab at the submission station. Failure to do so could result in a mark of zero.\n",
    "------------------\n",
    "## Design and Implementation Instructions\n",
    "1. Conditional statements are not needed for this program.<br><br>\n",
    "2. You may assume that inputs will be within a valid range and of the correct type, and that exception handling is not necessary.<br><br>\n",
    "3. Follow the function syntax **EXACTLY** as given, including spelling, capitalization and the order of function paramaters.<br><br>\n",
    "4. You may choose to use ' '.join(list) to concatenate a list into a single string.\n",
    "\n",
    "------------------"
   ]
  },
  {
   "cell_type": "code",
   "execution_count": 20,
   "metadata": {
    "nbgrader": {
     "grade": false,
     "grade_id": "makeRow",
     "locked": false,
     "schema_version": 1,
     "solution": true
    }
   },
   "outputs": [
    {
     "data": {
      "text/plain": [
       "['  ##', ' ###', '####']"
      ]
     },
     "execution_count": 20,
     "metadata": {},
     "output_type": "execute_result"
    }
   ],
   "source": [
    "#DO NOT PUT AN INPUT STATEMENT IN THIS CELL\n",
    "\n",
    "############################---makeRow(w, m, c) - (3 marks)---############################\n",
    "def makeRow(w,m,c):\n",
    "    x = c*w\n",
    "    y = x\n",
    "    if len(x) != m:\n",
    "        i = m - len(x)\n",
    "        y = x + i*\" \"\n",
    "    return y\n",
    "\n",
    "#############################---histogram(a, c) - (3 marks)---#############################\n",
    "def histogram(A,c):\n",
    "    x = 0\n",
    "    B =[]\n",
    "    for i in A:\n",
    "        if x < i:\n",
    "            x = i\n",
    "            #print (x)\n",
    "    for a in A:\n",
    "        B.append(makeRow(a,x,c))\n",
    "        #print (B)\n",
    "    return B\n",
    "#histogram ([2, 3, 4], '#')\n",
    "#############################---flipHist(a, c) - (4 marks)---#############################\n",
    "def fliphisto(A, c):\n",
    "    D =[]\n",
    "    C = histogram(A,c)\n",
    "    for i in C:\n",
    "        y = \"\"\n",
    "        for x in range(len(i)):\n",
    "            y = i[x] + y\n",
    "            #print (y)\n",
    "        D.append(y)\n",
    "    #print(D)\n",
    "    return D\n",
    "fliphisto([2, 3, 4], '#')"
   ]
  },
  {
   "cell_type": "code",
   "execution_count": 7,
   "metadata": {},
   "outputs": [
    {
     "data": {
      "text/plain": [
       "'\\nSample Input:\\nmakeRow(3, 4, \"#\")\\nhistogram([2, 3, 4], \\'#\\')\\nflipHist([2, 3, 4], \\'#\\')\\n\\nSample Output:\\nmakeRow(3, 4, \\'#\\') = \\'### \\'   <-- Notice the single space after the last #\\nhistogram([1, 2, 3, 4], \\'p\\') = [\\'p   \\', \\'pp  \\', \\'ppp \\', \\'pppp\\']\\nflipHist([2, 3, 4], \\'#\\') = [\\'  ##\\', \\' ###\\', \\'####\\']\\n'"
      ]
     },
     "execution_count": 7,
     "metadata": {},
     "output_type": "execute_result"
    }
   ],
   "source": [
    "###########---TESTING CELL---#############\n",
    "\n",
    "#This cell would be used to give you the automated mark\n",
    "\n",
    "'''\n",
    "Sample Input:\n",
    "makeRow(3, 4, \"#\")\n",
    "histogram([2, 3, 4], '#')\n",
    "flipHist([2, 3, 4], '#')\n",
    "\n",
    "Sample Output:\n",
    "makeRow(3, 4, '#') = '### '   <-- Notice the single space after the last #\n",
    "histogram([1, 2, 3, 4], 'p') = ['p   ', 'pp  ', 'ppp ', 'pppp']\n",
    "flipHist([2, 3, 4], '#') = ['  ##', ' ###', '####']\n",
    "'''\n"
   ]
  },
  {
   "cell_type": "markdown",
   "metadata": {
    "nbgrader": {
     "grade": false,
     "grade_id": "cell-d748cd3cc030667c",
     "locked": true,
     "schema_version": 1,
     "solution": false
    }
   },
   "source": [
    "## Code Legibility (3 Points)\n",
    "----------\n",
    "Your code will be marked on commenting and code legibility.<br>\n",
    "The mark breakdown is as follows:<br>\n",
    "1 mark for using appropriate variable names that indicate what is being stored in that variable<br>\n",
    "1 mark for leaving comments on major parts of your code such as where you read the file or calculate a summation<br>\n",
    "1 mark for general legibility. The TA's should be able to understand your code without spending hours reading it. For example do not put your code in one very long line as this is hard for someone else reading your code to understand\n"
   ]
  },
  {
   "cell_type": "markdown",
   "metadata": {
    "nbgrader": {
     "grade": false,
     "grade_id": "major_3_v4_dq",
     "locked": true,
     "schema_version": 1,
     "solution": false
    }
   },
   "source": [
    "## Design Questions (4 Points)\n",
    "--------------\n",
    "4 design questions either based on your program or testing your understanding of concepts discussed in lab and tutorial\n",
    "\n",
    "Enter your answers into the Markdown cell below."
   ]
  },
  {
   "cell_type": "markdown",
   "metadata": {
    "nbgrader": {
     "grade": true,
     "grade_id": "major_3_v4_dq_answers",
     "locked": false,
     "points": 4,
     "schema_version": 1,
     "solution": true
    }
   },
   "source": [
    "<pre>\n",
    "Your Answer Here (DO NOT DELETE &lt;pre&gt; or &lt;/pre&gt;)\n",
    "</pre>"
   ]
  },
  {
   "cell_type": "markdown",
   "metadata": {
    "nbgrader": {
     "grade": false,
     "grade_id": "major_3_v4_test_plan",
     "locked": true,
     "schema_version": 1,
     "solution": false
    }
   },
   "source": [
    "## Testing Plan (3 Points)\n",
    "---------------\n",
    "Produce a test plan in the Markdown cell below, in the following form:\n",
    "\n",
    "`Test i for function j\n",
    "Input: inputs for function j\n",
    "Expected Output: expected output for function j\n",
    "Actual Output: actual output for function j\n",
    "Result: Pass/Fail\n",
    "`\n",
    "\n",
    "Note: The actual output should be what the program produces, even if your output does not match the expected output.\n",
    "\n",
    "You must have $NO$ $LESS$ $THAN$ $3$ $TEST$ $CASES$.\n",
    "\n",
    "One case must be a $normal$ test case.\n",
    "\n",
    "One case must be a $boundary$ test case (testing the extremes of the input domain).\n",
    "\n",
    "One case must be an $abnormal$ test case (incorrect data types, try to crash the program)."
   ]
  },
  {
   "cell_type": "markdown",
   "metadata": {
    "nbgrader": {
     "grade": true,
     "grade_id": "major_3_v4_test_plan_answers",
     "locked": false,
     "points": 3,
     "schema_version": 1,
     "solution": true
    }
   },
   "source": [
    "<pre>\n",
    "Your Answer Here (DO NOT DELETE &lt;pre&gt; or &lt;/pre&gt;)\n",
    "</pre>"
   ]
  }
 ],
 "metadata": {
  "celltoolbar": "Create Assignment",
  "kernelspec": {
   "display_name": "Python 3",
   "language": "python",
   "name": "python3"
  },
  "language_info": {
   "codemirror_mode": {
    "name": "ipython",
    "version": 3
   },
   "file_extension": ".py",
   "mimetype": "text/x-python",
   "name": "python",
   "nbconvert_exporter": "python",
   "pygments_lexer": "ipython3",
   "version": "3.6.5"
  }
 },
 "nbformat": 4,
 "nbformat_minor": 2
}
