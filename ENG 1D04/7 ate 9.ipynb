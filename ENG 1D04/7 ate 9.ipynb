{
 "cells": [
  {
   "cell_type": "code",
   "execution_count": null,
   "metadata": {},
   "outputs": [],
   "source": [
    "\n",
    "N = input(\"Enter \")\n",
    "str = input(\" \")\n",
    "ary = []\n",
    "for y in range(len(str)):\n",
    "    if str(y) == \" \":\n",
    "        ary.append(str(y - 1))\n",
    "\n",
    "ary = [6, 7, 8, 9, 10, 11 ,12 ,13 , 8 , 9]\n",
    "N = 10\n",
    "d = 0\n",
    "j = 0\n",
    "while (j < (N - 2*d)):\n",
    "    if (ary[j] == 8):\n",
    "        ary.pop(j)\n",
    "        ary.pop(j)\n",
    "        d = d + 1\n",
    "        j = j - 2\n",
    "    j = j + 1\n",
    "for i in ary:\n",
    "    print(i, \" \")"
   ]
  },
  {
   "cell_type": "code",
   "execution_count": null,
   "metadata": {},
   "outputs": [],
   "source": []
  },
  {
   "cell_type": "code",
   "execution_count": null,
   "metadata": {},
   "outputs": [],
   "source": []
  }
 ],
 "metadata": {
  "kernelspec": {
   "display_name": "Python 3",
   "language": "python",
   "name": "python3"
  },
  "language_info": {
   "codemirror_mode": {
    "name": "ipython",
    "version": 3
   },
   "file_extension": ".py",
   "mimetype": "text/x-python",
   "name": "python",
   "nbconvert_exporter": "python",
   "pygments_lexer": "ipython3",
   "version": "3.6.5"
  }
 },
 "nbformat": 4,
 "nbformat_minor": 2
}
