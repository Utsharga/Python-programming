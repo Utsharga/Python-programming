{
 "cells": [
  {
   "cell_type": "code",
   "execution_count": 9,
   "metadata": {},
   "outputs": [
    {
     "data": {
      "text/plain": [
       "'Invalid data type'"
      ]
     },
     "execution_count": 9,
     "metadata": {},
     "output_type": "execute_result"
    }
   ],
   "source": [
    "def binSearch(listSearch,searchValue):\n",
    "    if type(searchValue) == str:\n",
    "        return \"Invalid data type\"\n",
    "    low = 0\n",
    "    high = len(listSearch) - 1\n",
    "    while low <= high:\n",
    "        midPoint = (low + high)//2\n",
    "        item = listSearch[midPoint]\n",
    "        if item == searchValue:\n",
    "            return midPoint\n",
    "        elif searchValue < item:\n",
    "            high = midPoint - 1\n",
    "        else: #item > searchValue\n",
    "            low = midPoint + 1\n",
    "            #low = int(high/2)\n",
    "    return \"value not found\"\n",
    "\n",
    "listA = [1,3,4,5,7,8,9,10]\n",
    "binSearch(listA, \"hey\")\n",
    "       "
   ]
  },
  {
   "cell_type": "code",
   "execution_count": 47,
   "metadata": {},
   "outputs": [
    {
     "data": {
      "text/plain": [
       "50.0"
      ]
     },
     "execution_count": 47,
     "metadata": {},
     "output_type": "execute_result"
    }
   ],
   "source": [
    "def isGraduated(row):\n",
    "    gradYear = row[2]\n",
    "    if gradYear <= 2018:\n",
    "        return True\n",
    "    else:\n",
    "        return False\n",
    "    #return gradYear <= 2018\n",
    "    \n",
    "def isFaculty(row, fac):\n",
    "    studentFac = row[0]\n",
    "    if fac == studentFac:\n",
    "        return True\n",
    "    else:\n",
    "        return False\n",
    "\n",
    "def isLastYearAvgAbove(row, grade):\n",
    "    studentGrade = row[3][-1]\n",
    "    if grade < studentGrade:\n",
    "        return True\n",
    "    else:\n",
    "        return False\n",
    "\n",
    "def query(data, grade, faculty):\n",
    "    totalGrade = 0\n",
    "    totalAbove = 0\n",
    "    for i in range(1, len(data)):\n",
    "        if isFaculty(data[i], faculty) == True and isGraduated(data[i]):\n",
    "            totalGrade = totalGrade + 1\n",
    "            if isLastYearAvgAbove(data[i], grade) == True:\n",
    "                totalAbove = totalAbove + 1\n",
    "        \n",
    "    percentage = (totalAbove/totalGrade)*100\n",
    "    return percentage\n",
    "                \n",
    "    \n",
    "data = [ [\"FACULTY\", \"BIRTH_YEAR\", \"GRAD_YEAR\", \"SESSIONAL_AVG\"],\n",
    "[\"ENG\", 1995, 2016, [6.52, 7.84, 7.66, 7.97, 7.81] ],\n",
    "[\"ENG\", 1997, 2017, [8.95, 6.75, 7.43] ],\n",
    "[\"BHSC\", 1998, 2019, [11.78, 11.12, 11.24, 11.61] ],\n",
    "[\"BHSC\", 1999, 2018, [10.41, 11.86, 11.99, 11.48] ] ]\n",
    "\n",
    "row = data[1]\n",
    "#isGraduated(row)\n",
    "#isFaculty(row, \"BHSC\")\n",
    "#isLastYearAvgAbove(row, 8)\n",
    "query(data, 7.5, 'ENG')"
   ]
  },
  {
   "cell_type": "code",
   "execution_count": null,
   "metadata": {},
   "outputs": [],
   "source": []
  }
 ],
 "metadata": {
  "kernelspec": {
   "display_name": "Python 3",
   "language": "python",
   "name": "python3"
  },
  "language_info": {
   "codemirror_mode": {
    "name": "ipython",
    "version": 3
   },
   "file_extension": ".py",
   "mimetype": "text/x-python",
   "name": "python",
   "nbconvert_exporter": "python",
   "pygments_lexer": "ipython3",
   "version": "3.6.5"
  }
 },
 "nbformat": 4,
 "nbformat_minor": 2
}
