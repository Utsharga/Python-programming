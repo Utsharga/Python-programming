{
 "cells": [
  {
   "cell_type": "code",
   "execution_count": 14,
   "metadata": {},
   "outputs": [
    {
     "name": "stdout",
     "output_type": "stream",
     "text": [
      "|_  _  _  _  _  _ |\n",
      "|_  _  _  _  _  _ |\n",
      "|_  _  _  _  _  _ |\n",
      "|_  _  _  _  _  _ |\n",
      "|_  _  _  _  _  _ |\n",
      "|_  _  _  _  _  _ |\n",
      "|_  _  _  _  _  _ |\n",
      "|_  _  _  _  _  _ |\n",
      "|_  _  _  _  _  _ |\n",
      "|_  _  _  _  _  _ |\n",
      "|_  _  _  _  _  _ |\n",
      "|_  _  _  _  _  _ |\n",
      "|_  _  _  _  _  _ |\n",
      "|_  _  _  _  _  _ |\n",
      "|_  _  _  _  _  _ |\n",
      "|_  _  _  _  _  _ |\n",
      "|_  _  _  _  _  _ |\n",
      "|_  _  _  _  _  _ |\n",
      "|_  _  _  _  _  _ |\n",
      "|_  _  _  _  _  _ |\n",
      "|_  _  _  _  _  _ |\n",
      "|_  _  _  _  _  _ |\n",
      "|_  _  _  _  _  _ |\n",
      "|_  _  _  _  _  _ |\n",
      "|_  _  _  _  _  _ |\n",
      "|_  _  _  _  _  _ |\n",
      "|_  _  _  _  _  _ |\n",
      "|_  _  _  _  _  _ |\n",
      "|_  _  _  _  _  _ |\n",
      "|_  _  _  _  _  _ |\n",
      "|_  _  _  _  _  _ |\n",
      "|_  _  _  _  _  _ |\n",
      "|_  _  _  _  _  _ |\n",
      "|@  @  _  _  _  _ |\n",
      "|@  @  _  _  _  _ |\n",
      "|@  @  _  _  _  _ |\n",
      "|_  _  _  _  _  _ |\n",
      "|_  _  _  _  _  _ |\n",
      "|_  _  _  _  _  _ |\n",
      "|_  _  _  _  _  _ |\n"
     ]
    }
   ],
   "source": [
    "def makelanes():\n",
    "    a = []\n",
    "\n",
    "\n",
    "    for row in range(40):\n",
    "        a.append([])\n",
    "\n",
    "    for row in range(len(a)):\n",
    "        for i in range(6):\n",
    "            a[row].append(\"_\")\n",
    "\n",
    "    return a\n",
    "\n",
    "\n",
    "#     for row in a:\n",
    "#         print(\"-\"*len(a[0]))\n",
    "#         print(\"|\", end=\"\")\n",
    "#         print(\" \".join([ str(i)+\" \" for i in a[len(a)-1] ]), end=\"\")\n",
    "#         print(\"|\", end=\"\\n\")\n",
    "        \n",
    "\n",
    "def makecar(a,row):\n",
    "    for i in range(2):\n",
    "        a[row][i] = \"@\"\n",
    "    \n",
    "def makeob(lst,row,col):\n",
    "        lst[row][col] = \"O\"\n",
    "    \n",
    "def pop_and_add(lst,row):\n",
    "    lst.pop(row)\n",
    "    lst.append([\"_\",\"_\",\"_\",\"_\",\"_\",\"_\"])\n",
    "    \n",
    "def main():\n",
    "    lst=[]\n",
    "    lst = makelanes()\n",
    "    makecar(lst, 34)\n",
    "    makecar(lst, 35)\n",
    "    makecar(lst, 36)\n",
    "    #pop_and_add(lst, 0)\n",
    "    \n",
    "    \n",
    "    for row in lst:\n",
    "        print(\"|\", end=\"\")\n",
    "        print(\" \".join([ str(i)+\" \" for i in row ]), end=\"\")\n",
    "        print(\"|\", end=\"\\n\")\n",
    "        \n",
    "        \n",
    "main()"
   ]
  },
  {
   "cell_type": "code",
   "execution_count": null,
   "metadata": {},
   "outputs": [],
   "source": []
  },
  {
   "cell_type": "code",
   "execution_count": null,
   "metadata": {},
   "outputs": [],
   "source": []
  },
  {
   "cell_type": "code",
   "execution_count": null,
   "metadata": {},
   "outputs": [],
   "source": []
  },
  {
   "cell_type": "code",
   "execution_count": null,
   "metadata": {},
   "outputs": [],
   "source": []
  }
 ],
 "metadata": {
  "kernelspec": {
   "display_name": "Python 3",
   "language": "python",
   "name": "python3"
  },
  "language_info": {
   "codemirror_mode": {
    "name": "ipython",
    "version": 3
   },
   "file_extension": ".py",
   "mimetype": "text/x-python",
   "name": "python",
   "nbconvert_exporter": "python",
   "pygments_lexer": "ipython3",
   "version": "3.6.5"
  }
 },
 "nbformat": 4,
 "nbformat_minor": 2
}
