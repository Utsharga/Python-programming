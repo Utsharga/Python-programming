{
 "cells": [
  {
   "cell_type": "markdown",
   "metadata": {
    "nbgrader": {
     "grade": false,
     "grade_id": "major_4_v3_title",
     "locked": true,
     "schema_version": 1,
     "solution": false
    }
   },
   "source": [
    "# <center>Major Assignment 4 Practice 2</center>\n",
    "-------------\n",
    "<b><center>ENGINEER 1D04</center><b>\n",
    "<b><center>Dr. Asghar Bokhari</center><b>\n",
    "<b><center>McMaster University, Fall 2018</center><b>"
   ]
  },
  {
   "cell_type": "markdown",
   "metadata": {},
   "source": [
    "## This is one of the old versions for major 4 do NOT expect to see this on your major"
   ]
  },
  {
   "cell_type": "markdown",
   "metadata": {
    "nbgrader": {
     "grade": false,
     "grade_id": "major_4_v3_instructions",
     "locked": true,
     "schema_version": 1,
     "solution": false
    }
   },
   "source": [
    "## Background\n",
    "----------------\n",
    "This assignment deals with interpreting a table of weather simulation data, to predict the daily weather. Say that when a weather simulation program runs, it creates a row of output in the form of a Python list:\n",
    "\n",
    "    row = [hour, temperature, relHumidity, [cloudCover, cloudHeight], [windSpdLow, windSpdHigh]]\n",
    "\n",
    "where `hour` is an integer between 0 and 23 representing hours past midnight, `temperature` is a float in Celsius, `relHumidity` and `cloudCover` are percents (floats) between 0 and 1, `cloudHeight` is an integer in metres, and both `windSpdLow` and `windSpdHigh` are floats in km/h.\n",
    "The simulation runs $n$ times, and returns the final result as a list of rows:\n",
    "\n",
    "                                    data = [ row_1, row_2, ..., row_n ]\n",
    "                                    \n",
    "Your program will contain a set of functions that can be used to interpret this list of simulation rows.\n",
    "                                    \n",
    "Design, implement, and test a program that satisfies the requirements below.\n",
    "\n",
    "-------------------\n",
    "## Requirements\n",
    "1. Implement the function `isTempBetween(row, minTemp, maxTemp)`, which takes ONE ROW of a weather simulation (`[hour, temp, etc.]`) and two floats `minTemp` and `maxTemp`, and returns `True` if `temperature` for that row is between `minTemp` and `maxTemp`, `False` otherwise.<br><br>\n",
    "\n",
    "2. Implement the function `isHumidityOver(row, percent)`, which takes ONE ROW of a weather simulation (`[hour, temp, etc.]`) and a float `percent`, and returns `True` if `relHumidity` for that row is above `percent`, `False` otherwise. <br><br>\n",
    "\n",
    "3. Implement the function `isWindSpeedOver(row, speed)`, which takes ONE ROW of a weather simulation (`[hour, temp, etc.]`) and a float `speed`, and returns `True` if `windSpdLow` for that row is above `speed`, `False` otherwise.<br><br> \n",
    "\n",
    "4.  Implement the function `hailChance(data)`, which takes a list of weather simulation rows (`[row1, row2, etc.]`), and returns the list `[chance, time]`. <br>`chance` is a float between 0 and 1 representing the chance that hail will occur, and `time` is a float defined as the range of time hail could be present: \n",
    "$$chance = \\frac{Number\\hspace{0.15cm}of\\hspace{0.15cm}rows\\hspace{0.15cm}in\\hspace{0.15cm}data\\hspace{0.15cm}that\\hspace{0.15cm}indicate\\hspace{0.15cm}hail}{Total\\hspace{0.15cm}number\\hspace{0.15cm}of\\hspace{0.15cm}rows\\hspace{0.15cm}in\\hspace{0.15cm}data}$$ \n",
    " \n",
    " \n",
    "$$\\texttt{time} = \\frac{\\sum\\texttt{hour}\\hspace{0.15cm}of\\hspace{0.15cm}each\\hspace{0.15cm}row\\hspace{0.15cm}in\\hspace{0.15cm}data\\hspace{0.15cm}that\\hspace{0.15cm}indicates\\hspace{0.15cm}hail}{Number\\hspace{0.15cm}of\\hspace{0.15cm}rows\\hspace{0.15cm}in\\hspace{0.15cm}data\\hspace{0.15cm}that\\hspace{0.15cm}indicate\\hspace{0.15cm}hail}$$ <br><br>For our purposes, a row indicates hail if `humidity` $>$ 0.9, `windSpdLow` $>$ 100 and `temperature` is between -10 and 0.<br><br>\n",
    "\n",
    "`NOTE:` If no rows of `data` indicate hail, then `time` should be equal to zero.\n",
    "\n",
    "5. The program requires very little besides the function definitions. There is no main().<br><br>\n",
    "\n",
    "6. Your name, MacID, student number, and the date are given in comments at the top of the first Python cell below.<br><br>\n",
    "\n",
    "7. Your answers to the design questions and test plan are given in the appropriate Markdown cells below.<br><br>\n",
    "\n",
    "8. Your program MUST have valid Python syntax and it must run without errors. Ensure that your program runs properly by running it before you submit.<br><br>\n",
    "\n",
    "9. You must sign out with a TA or IAI after you have submitted your lab at the submission station. Failure to do so could result in a mark of zero.\n",
    "------------------\n",
    "## Design and Implementation Instructions\n",
    "\n",
    "1. You may assume that inputs will be within a valid range and of the correct type, and that exception handling is not necessary.<br><br>\n",
    "2. Follow the function syntax **EXACTLY** as given, including spelling, capitalization and the order of function paramaters.\n",
    "\n",
    "------------------"
   ]
  },
  {
   "cell_type": "code",
   "execution_count": null,
   "metadata": {
    "collapsed": true,
    "nbgrader": {
     "grade": false,
     "grade_id": "isTempBetween",
     "locked": false,
     "schema_version": 1,
     "solution": true
    }
   },
   "outputs": [],
   "source": [
    "#DO NOT PUT AN INPUT STATEMENT IN THIS CELL\n",
    "\n",
    "#####################---isTempBetween(row, minTemp, maxTemp) - (2 Marks)---######################\n",
    "\n",
    "\n",
    "########################---isHumidityOver(row, percent) - (1.5 Marks)---#########################\n",
    "\n",
    "\n",
    "#########################---isWindSpeedOver(row, speed) - (2 Points)---##########################\n",
    "\n",
    "\n",
    "#############################---hailChance(data) - (4.5 Points)---###############################\n",
    "\n"
   ]
  },
  {
   "cell_type": "code",
   "execution_count": null,
   "metadata": {
    "collapsed": true,
    "nbgrader": {
     "grade": true,
     "grade_id": "isTempBetween_tests",
     "locked": true,
     "points": 0,
     "schema_version": 1,
     "solution": false
    }
   },
   "outputs": [],
   "source": [
    "###########---TESTING CELL---#############\n",
    "\n",
    "#This cell would be used to give you the automated mark\n",
    "\n",
    "'''\n",
    "Sample Input:\n",
    "data = [ [0, 1.5, 0.4, [0.3, 42], [5.1, 10.0] ],\n",
    "         [10, 1.4, 0.3, [0.2, 41], [6.2, 8.6] ],\n",
    "         [3, -5.1, 0.91, [0.83, 21], [107.1, 108.1] ],\n",
    "         [12, -6.3, 0.94, [0.91, 30], [106.5, 109.4] ],\n",
    "         [18, 20.5, 0.4, [0.3, 12000], [60.1, 162.4] ],\n",
    "         [2, 20.4, 0.3, [0.2, 11000], [105.6, 118.7] ],\n",
    "         [5, -9.2, 0.2, [0.93, 1001], [6.2, 6.3] ],\n",
    "         [15, -2.4, 0.1, [0.95, 1981], [7.4, 8.5] ] ]\n",
    "\n",
    "Sample Output:\n",
    "isTempBetween(data[0], 1.4, 1.5) = False\n",
    "isHumidityOver(data[0], 0.91) = False\n",
    "isWindSpeedOver(data[0], 5.1) = False\n",
    "hailChance(data) = [0.25, 7.5]\n",
    "'''\n",
    "\n"
   ]
  },
  {
   "cell_type": "markdown",
   "metadata": {
    "nbgrader": {
     "grade": false,
     "grade_id": "cell-2a1922870f29c5ec",
     "locked": true,
     "schema_version": 1,
     "solution": false
    }
   },
   "source": [
    "## Code Legibility (3 Points)\n",
    "----------\n",
    "Your code will be marked on commenting and code legibility.<br>\n",
    "The mark breakdown is as follows:<br>\n",
    "1 mark for using appropriate variable names that indicate what is being stored in that variable<br>\n",
    "1 mark for leaving comments on major parts of your code such as where you read the file or calculate a summation<br>\n",
    "1 mark for general legibility. The TA's should be able to understand your code without spending hours reading it. For example do not put your code in one very long line as this is hard for someone else reading your code to understand\n",
    "\n",
    "<h6>Ignore the empty cell below. You do NOT need to type anything in it </h6>"
   ]
  },
  {
   "cell_type": "markdown",
   "metadata": {
    "nbgrader": {
     "grade": true,
     "grade_id": "cell-8558225300edfd52",
     "locked": false,
     "points": 3,
     "schema_version": 1,
     "solution": true
    }
   },
   "source": []
  },
  {
   "cell_type": "markdown",
   "metadata": {
    "nbgrader": {
     "grade": false,
     "grade_id": "major_4_v3_dq",
     "locked": true,
     "schema_version": 1,
     "solution": false
    }
   },
   "source": [
    "## Design Questions (4 Points)\n",
    "--------------\n",
    "4 design questions either based on your program or testing your understanding of concepts discussed in lab and tutorial\n",
    "\n",
    "\n",
    "Enter your answers into the Markdown cell below."
   ]
  },
  {
   "cell_type": "markdown",
   "metadata": {
    "nbgrader": {
     "grade": true,
     "grade_id": "major_4_v3_dq_answers",
     "locked": false,
     "points": 4,
     "schema_version": 1,
     "solution": true
    }
   },
   "source": [
    "<pre>\n",
    "Your Answer Here (DO NOT DELETE &lt;pre&gt; or &lt;/pre&gt;)\n",
    "</pre>"
   ]
  },
  {
   "cell_type": "markdown",
   "metadata": {
    "nbgrader": {
     "grade": false,
     "grade_id": "major_4_v3_test_plan",
     "locked": true,
     "schema_version": 1,
     "solution": false
    }
   },
   "source": [
    "## Testing Plan (3 Points)\n",
    "---------------\n",
    "Produce a test plan in the Markdown cell below, in the following form:\n",
    "\n",
    "`Test i for function j\n",
    "Input: inputs for function j\n",
    "Expected Output: expected output for function j\n",
    "Actual Output: actual output for function j\n",
    "Result: Pass/Fail\n",
    "`\n",
    "\n",
    "Note: The actual output should be what the program produces, even if your output does not match the expected output.\n",
    "\n",
    "You must have $NO$ $LESS$ $THAN$ $3$ $TEST$ $CASES$.\n",
    "\n",
    "One case must be a $normal$ test case.\n",
    "\n",
    "One case must be a $boundary$ test case (testing the extremes of the input domain).\n",
    "\n",
    "One case must be an $abnormal$ test case (incorrect data types, try to crash the program)."
   ]
  },
  {
   "cell_type": "markdown",
   "metadata": {
    "nbgrader": {
     "grade": true,
     "grade_id": "major_4_v3_test_plan_answers",
     "locked": false,
     "points": 3,
     "schema_version": 1,
     "solution": true
    }
   },
   "source": [
    "<pre>\n",
    "Your Answer Here (DO NOT DELETE &lt;pre&gt; or &lt;/pre&gt;)\n",
    "</pre>"
   ]
  }
 ],
 "metadata": {
  "celltoolbar": "Create Assignment",
  "kernelspec": {
   "display_name": "Python 3",
   "language": "python",
   "name": "python3"
  },
  "language_info": {
   "codemirror_mode": {
    "name": "ipython",
    "version": 3
   },
   "file_extension": ".py",
   "mimetype": "text/x-python",
   "name": "python",
   "nbconvert_exporter": "python",
   "pygments_lexer": "ipython3",
   "version": "3.6.5"
  }
 },
 "nbformat": 4,
 "nbformat_minor": 2
}
