{
 "cells": [
  {
   "cell_type": "code",
   "execution_count": null,
   "metadata": {},
   "outputs": [
    {
     "name": "stdout",
     "output_type": "stream",
     "text": [
      "Your current balance is $ 100\n",
      "1.Slots\n",
      "2.Roulette\n",
      "Please select your choice above or select any other key to exit2\n",
      "Select how many times would you like to play Roulette?:3\n",
      "Thank you for playing the Slots\n",
      "Shocking, you didn't wind anything:\n",
      "Your current balance is $ 70\n",
      "1.Slots\n",
      "2.Roulette\n",
      "Please select your choice above or select any other key to exit1\n",
      "Select how many times would you like to play the Slots?:2\n",
      "Thank you for playing the Slots\n",
      "Shocking, you didn't win anything\n",
      "Your current balance is $ 62\n",
      "1.Slots\n",
      "2.Roulette\n",
      "Please select your choice above or select any other key to exit1\n",
      "Select how many times would you like to play the Slots?:1\n",
      "Thank you for playing the Slots\n",
      "Shocking, you didn't win anything\n",
      "Your current balance is $ 58\n",
      "1.Slots\n",
      "2.Roulette\n"
     ]
    }
   ],
   "source": [
    "### define slot to calculate money lost at slot\n",
    "\n",
    "def slots(money, num_times):\n",
    "    required_funds = num_times * 4\n",
    "    if money >= required_funds:\n",
    "        money = money - required_funds\n",
    "        print(\"Thank you for playing the Slots\")\n",
    "        print(\"Shocking, you didn't win anything\")\n",
    "    else: \n",
    "        print(\"Sorry, insufficient funds\")\n",
    "    return money\n",
    "\n",
    "### define roulette to calculate money lost at roulette\n",
    "                  \n",
    "def roulette(money, num_times):\n",
    "    required_funds = num_times * 10\n",
    "    if money >= required_funds:\n",
    "        money = money - required_funds\n",
    "        print(\"Thank you for playing the Slots\")\n",
    "        print(\"Shocking, you didn't wind anything:\")\n",
    "    elif money >= 4:\n",
    "        print(\"You can't afford this game\")\n",
    "        choice = str(input(\"Enter 'y' if you'd like to play the slots one time. Otherwise, press any other key:  \"))\n",
    "        if choice == \"y\":\n",
    "            money = slots(money, 1)\n",
    "        else:\n",
    "            print(\"Sorry, insufficient funds\")\n",
    "    return money\n",
    "\n",
    "''' define main for user to choose either they want to play either slots or roulette\n",
    "and by using while loop, user can play at casino until they lost all money. \n",
    "\n",
    "'''\n",
    "\n",
    "def main():\n",
    "    money = int(100)\n",
    "    while money >0:\n",
    "        print(\"Your current balance is $\", money)\n",
    "        print (\"1.Slots\")\n",
    "        print (\"2.Roulette\")\n",
    "        pick_game = str(input(\"Please select your choice above or select any other key to exit\"))\n",
    "        if pick_game == \"1\":\n",
    "            num_times = int(input(\"Select how many times would you like to play the Slots?:\"  ))\n",
    "            money = slots(money, num_times)\n",
    "        elif pick_game == \"2\":\n",
    "            num_times = int(input(\"Select how many times would you like to play Roulette?:\" ))\n",
    "            money = roulette(money, num_times)\n",
    "        else:\n",
    "            break\n",
    "\n",
    "    print(\"You have managed to crawl out of the casino with$\", money)\n",
    "main()"
   ]
  },
  {
   "cell_type": "code",
   "execution_count": 2,
   "metadata": {},
   "outputs": [
    {
     "data": {
      "text/plain": [
       "0.5"
      ]
     },
     "execution_count": 2,
     "metadata": {},
     "output_type": "execute_result"
    }
   ],
   "source": [
    "float(\"0.5\")"
   ]
  },
  {
   "cell_type": "code",
   "execution_count": 4,
   "metadata": {},
   "outputs": [
    {
     "data": {
      "text/plain": [
       "7"
      ]
     },
     "execution_count": 4,
     "metadata": {},
     "output_type": "execute_result"
    }
   ],
   "source": [
    "lst1 = [4,6,7,2,3]\n",
    "max(lst1)"
   ]
  },
  {
   "cell_type": "code",
   "execution_count": 2,
   "metadata": {},
   "outputs": [
    {
     "data": {
      "text/plain": [
       "[]"
      ]
     },
     "execution_count": 2,
     "metadata": {},
     "output_type": "execute_result"
    }
   ],
   "source": [
    "list(range(5,1,1))"
   ]
  },
  {
   "cell_type": "code",
   "execution_count": 5,
   "metadata": {},
   "outputs": [
    {
     "name": "stdout",
     "output_type": "stream",
     "text": [
      "H\n",
      "e\n",
      "l\n",
      "l\n",
      "o\n",
      "\n"
     ]
    }
   ],
   "source": [
    "string = \"Hello\"\n",
    "total = \"\"\n",
    "for i in string:\n",
    "    total += i\n",
    "    print(i)\n",
    "    \n",
    "print (total)"
   ]
  },
  {
   "cell_type": "code",
   "execution_count": null,
   "metadata": {},
   "outputs": [],
   "source": []
  }
 ],
 "metadata": {
  "kernelspec": {
   "display_name": "Python 3",
   "language": "python",
   "name": "python3"
  },
  "language_info": {
   "codemirror_mode": {
    "name": "ipython",
    "version": 3
   },
   "file_extension": ".py",
   "mimetype": "text/x-python",
   "name": "python",
   "nbconvert_exporter": "python",
   "pygments_lexer": "ipython3",
   "version": "3.6.5"
  }
 },
 "nbformat": 4,
 "nbformat_minor": 2
}
