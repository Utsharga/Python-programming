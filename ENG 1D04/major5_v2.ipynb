{
 "cells": [
  {
   "cell_type": "markdown",
   "metadata": {
    "nbgrader": {
     "grade": false,
     "grade_id": "major_5_v4_title",
     "locked": true,
     "schema_version": 1,
     "solution": false
    }
   },
   "source": [
    "# <center>Major Assignment 5 Practice 1</center>\n",
    "-------------\n",
    "<b><center>ENGINEER 1D04</center><b>\n",
    "<b><center>Dr. Asghar Bokhari</center><b>\n",
    "<b><center>McMaster University, Fall 2018</center><b>"
   ]
  },
  {
   "cell_type": "markdown",
   "metadata": {},
   "source": [
    "## This is one of the old versions for major 5 do NOT expect to see this on your major"
   ]
  },
  {
   "cell_type": "markdown",
   "metadata": {
    "nbgrader": {
     "grade": false,
     "grade_id": "major_5_v4_instructions",
     "locked": true,
     "schema_version": 1,
     "solution": false
    }
   },
   "source": [
    "## Background\n",
    "----------------\n",
    "In physics, many kinematics problems can be simply modelled using a particle, or point mass, approximation. A one-dimensional particle with mass $m$ travels in only one direction, and has a position $r$, velocity $v$, and acceleration $a$ that change over time.\n",
    "\n",
    " In a numerical simulation of a particle, the flow of time is approximated by using intervals. For a period of time $t$ split into $n$ intervals, the change in time over each interval is given by $\\Delta t = \\frac{t}{n}$. The smaller $\\Delta t$ is ($n$ is large), the better the approximation becomes. For a given time interval $\\Delta t$, the position $r$ and velocity $v$ for a particle are updated as follows:\n",
    "$$r_{\\mathit{new}} = r_{\\mathit{last}} + v_{\\mathit{last}}\\cdot\\Delta t + \\frac{1}{2}\\cdot a \\cdot \\Delta t^2$$\n",
    "$$v_{\\mathit{new}} = v_{\\mathit{last}} + a \\cdot \\Delta t$$\n",
    "\n",
    "where $r_{\\mathit{new}}$ and $v_{\\mathit{new}}$ are the new (updated) position and velocity of the particle, and $r_{\\mathit{last}}$ and $v_{\\mathit{last}}$ are the position and velocity during the last interval.\n",
    "\n",
    "This program will simulate a particle being fired from a cannon into the air, then being pulled back to the ground by gravity. A mass $m$ will experience an initial energy input $E$, setting its velocity according to the following equation:\n",
    "$$v = \\sqrt{\\frac{2\\cdot E}{m}}$$\n",
    "                                    \n",
    "Design, implement, and test a program that satisfies the requirements below.\n",
    "\n",
    "-------------------\n",
    "## Requirements\n",
    "1. The library includes a Python class named `Particle1D`. (Note: **1** in Particle**1**D is the number one) <br><br>\n",
    "\n",
    "2. The `__init__` method for `Particle1D` takes first formal parameter `self` and four numbers $m$, $r_0$, $v_0$, and $a_0$ as input **in that order**, and stores each of them as a class instance variable. $m$, $r$, $v$ and $a$ represent the mass, starting position, starting velocity, and starting acceleration of the particle, respectively.<br><br>\n",
    "\n",
    "3. The class contains accessors for $m$, $r$, $v$, and $a$. The names of the accessors are `getM()`, `getR()`, `getV()` and `getA()`, respectively. <br><br>\n",
    "\n",
    "4. The class contains a mutator `update(self, delta_t)` that has a first formal parameter `self` and a normal parameter time interval $\\Delta t$ , and updates $r$ and $v$ according to the formulas above. Be careful not to use $v_{\\mathit{new}}$ in the calculation for $r_{\\mathit{new}}$.<br><br>\n",
    "\n",
    "5. The class contains a method `isOnGround(self)`, that has first formal parameter `self` and returns `True` if $r \\le 0$, and `False` otherwise.<br><br>\n",
    "\n",
    "6.  The class contains a mutator `fireCannon(self, energy):` that has a first formal parameter `self` and a normal parameter $energy$, and sets $v$ according to the energy formula above. Note that $v$ is re-calculated directly from $E$, and $m$.<br><br>\n",
    "\n",
    "7. **Outside** the class there should be a function `runCannonSim(delta_t, energy, gravity, mass)` that takes a time interval $\\Delta t$, a float `energy`, a float `gravity`, and a float `mass` as input, and simulates a mass being fired from a cannon into the air. First, a `Particle1D` object is created with mass `mass`, initial position `1`, initial velocity `0`, and initial acceleration `gravity`. The particle is then fired from the cannon using `energy` and `fireCannon`. The simulation will run until the particle hits the ground ($r\\le0$). Each \"cycle\" of the simulation recalculates the position and velocity of the particle using $\\Delta t$ and `update`. The function should return a list containing the starting point of the particle, and its new position ($r$) at the end of each cycle. For example, if the particle has a `mass` = 10, `energy` = 1000 and `delta_t` = 0.4, the returned list will look something like: `[1.0, 5.872854249492381, 9.177708498984762, 10.914562748477142, 11.083416997969522, 9.6842712474619, 6.71712549695428, 2.1819797464466593, -3.9211660040609613]`.<br><br>\n",
    "\n",
    "8. The program requires very little besides the function definitions. There is no main().<br><br>\n",
    "\n",
    "9. Your name, MacID, student number, and the date are given in comments at the top of the first Python cell below.<br><br>\n",
    "\n",
    "10. Your answers to the design questions and test plan are given in the appropriate Markdown cells below.<br><br>\n",
    "\n",
    "11. Your program MUST have valid Python syntax and it must run without errors. Ensure that your program runs properly by running it before you submit.<br><br>\n",
    "\n",
    "12. You must sign out with a TA or IAI after you have submitted your lab at the submission station. Failure to do so could result in a mark of zero.\n",
    "------------------\n",
    "## Design and Implementation Instructions\n",
    "\n",
    "1. You may assume that inputs will be within a valid range and of the correct type, and that exception handling is not necessary.<br><br>\n",
    "2. Follow the function syntax **EXACTLY** as given, including spelling, capitalization and the order of function paramaters.\n",
    "\n",
    "------------------"
   ]
  },
  {
   "cell_type": "code",
   "execution_count": null,
   "metadata": {
    "nbgrader": {
     "grade": false,
     "grade_id": "particle1D",
     "locked": false,
     "schema_version": 1,
     "solution": true
    }
   },
   "outputs": [],
   "source": [
    "#DO NOT PUT AN INPUT STATEMENT IN THIS CELL\n",
    "\n",
    "########################---Particle1D class definition (6 Marks)---########################\n",
    "\n",
    "\n",
    "\n",
    "###############---runCannonSim(delta_t, energy, gravity, mass) - (4 Marks)---##############\n",
    "\n",
    "\n"
   ]
  },
  {
   "cell_type": "code",
   "execution_count": null,
   "metadata": {
    "nbgrader": {
     "grade": true,
     "grade_id": "particle1D_tests",
     "locked": true,
     "points": 0,
     "schema_version": 1,
     "solution": false
    }
   },
   "outputs": [],
   "source": [
    "###########---TESTING CELL---#############\n",
    "\n",
    "\n",
    "#This cell would be used to give you the automated mark\n",
    "\n",
    "'''\n",
    "Sample Input:\n",
    "p = Particle1D(100, 2, 3, -1)\n",
    "p.fireCannon(100)\n",
    "p.update(0.1)\n",
    "\n",
    "Sample Output:\n",
    "p.getM() = 100.0\n",
    "p.getA() = -1.0\n",
    "p.getR() = 2.1364213562373098\n",
    "p.getV() = 1.314213562373095\n",
    "p.isOnGround() = False\n",
    "runCannonSim(1, 2356, -9.8, 4.3110) = [1.0, 29.16082063840952, 47.52164127681903, 56.08246191522855, 54.84328255363807, 43.804103192047585, 22.964923830457096, -7.674255531133392]\n",
    "'''\n"
   ]
  },
  {
   "cell_type": "markdown",
   "metadata": {
    "nbgrader": {
     "grade": false,
     "grade_id": "cell-f637736208f35db3",
     "locked": true,
     "schema_version": 1,
     "solution": false
    }
   },
   "source": [
    "## Code Legibility (3 Points)\n",
    "----------\n",
    "Your code will be marked on commenting and code legibility.<br>\n",
    "The mark breakdown is as follows:<br>\n",
    "1 mark for using appropriate variable names that indicate what is being stored in that variable<br>\n",
    "1 mark for leaving comments on major parts of your code such as where you read the file or calculate a summation<br>\n",
    "1 mark for general legibility. The TA's should be able to understand your code without spending hours reading it. For example do not put your code in one very long line as this is hard for someone else reading your code to understand\n",
    "\n",
    "<h6>Ignore the empty cell below. You do NOT need to type anything in it </h6>"
   ]
  },
  {
   "cell_type": "markdown",
   "metadata": {
    "nbgrader": {
     "grade": true,
     "grade_id": "cell-921fcfa085debad8",
     "locked": false,
     "points": 3,
     "schema_version": 1,
     "solution": true
    }
   },
   "source": []
  },
  {
   "cell_type": "markdown",
   "metadata": {
    "nbgrader": {
     "grade": false,
     "grade_id": "major_5_v4_dq",
     "locked": true,
     "schema_version": 1,
     "solution": false
    }
   },
   "source": [
    "## Design Questions (4 Points)\n",
    "--------------\n",
    "4 design questions either based on your program or testing your understanding of concepts discussed in lab and tutorial\n",
    "\n",
    "\n",
    "Enter your answers into the Markdown cell below."
   ]
  },
  {
   "cell_type": "markdown",
   "metadata": {
    "nbgrader": {
     "grade": true,
     "grade_id": "major_5_v4_dq_answers",
     "locked": false,
     "points": 4,
     "schema_version": 1,
     "solution": true
    }
   },
   "source": [
    "<pre>\n",
    "Your Answer Here (DO NOT DELETE &lt;pre&gt; or &lt;/pre&gt;)\n",
    "</pre>"
   ]
  },
  {
   "cell_type": "markdown",
   "metadata": {
    "nbgrader": {
     "grade": false,
     "grade_id": "major_5_v4_test_plan",
     "locked": true,
     "schema_version": 1,
     "solution": false
    }
   },
   "source": [
    "## Testing Plan (3 Points)\n",
    "---------------\n",
    "\n",
    "`Test i for method/function j\n",
    "Input: inputs for method/function j\n",
    "Expected Output: expected output for method/function j\n",
    "Actual Output: actual output for method/function j\n",
    "Result: Pass/Fail\n",
    "`\n",
    "\n",
    "For mutators, Expected Output will be the expected values for the instance variables that the mutator is changing.\n",
    "\n",
    "Note: The actual output should be what the program produces, even if your output does not match the expected output.\n",
    "\n",
    "You must have $NO$ $LESS$ $THAN$ $3$ $TEST$ $CASES$.\n",
    "\n",
    "One case must be a $normal$ test case.\n",
    "\n",
    "One case must be a $boundary$ test case (testing the extremes of the input domain).\n",
    "\n",
    "One case must be an $abnormal$ test case (incorrect data types, try to crash the program)."
   ]
  },
  {
   "cell_type": "markdown",
   "metadata": {
    "nbgrader": {
     "grade": true,
     "grade_id": "major_5_v4_test_plan_answers",
     "locked": false,
     "points": 3,
     "schema_version": 1,
     "solution": true
    }
   },
   "source": [
    "<pre>\n",
    "Your Answer Here (DO NOT DELETE &lt;pre&gt; or &lt;/pre&gt;)\n",
    "</pre>"
   ]
  }
 ],
 "metadata": {
  "celltoolbar": "Create Assignment",
  "kernelspec": {
   "display_name": "Python 3",
   "language": "python",
   "name": "python3"
  },
  "language_info": {
   "codemirror_mode": {
    "name": "ipython",
    "version": 3
   },
   "file_extension": ".py",
   "mimetype": "text/x-python",
   "name": "python",
   "nbconvert_exporter": "python",
   "pygments_lexer": "ipython3",
   "version": "3.6.5"
  }
 },
 "nbformat": 4,
 "nbformat_minor": 2
}
