{
 "cells": [
  {
   "cell_type": "markdown",
   "metadata": {
    "nbgrader": {
     "grade": false,
     "grade_id": "major_2_v4_title",
     "locked": true,
     "schema_version": 1,
     "solution": false
    }
   },
   "source": [
    "# <center>Major Assignment 2 Version 1</center>\n",
    "-------------\n",
    "<b><center>ENGINEER 1D04</center><b>\n",
    "<b><center>Dr. Asghar Bokhari</center><b>\n",
    "<b><center>McMaster University</center><b>"
   ]
  },
  {
   "cell_type": "markdown",
   "metadata": {
    "nbgrader": {
     "grade": false,
     "grade_id": "major_2_v4_instructions",
     "locked": true,
     "schema_version": 1,
     "solution": false
    }
   },
   "source": [
    "## Background\n",
    "----------------\n",
    "The purpose of this assignment is to perform some statistical analysis on a set of data. Your program will read in two sets of numbers stored in separate files which represent statistical $(x,y)$ pairs, represent the numbers as two lists of floats, calculate the biased, weighted mean deviation of the data, and output the result. The formula for biased, weighted mean deviation, a measurement of variation or dispersion of the data from the average value, is:\n",
    "\n",
    "### $$\\sigma = \\sqrt{\\frac{\\sum_{i=0}^{n-1} y_i(x_i - \\bar{x}^*)^2}{\\sum_{i=0}^{n-1} y_i}}$$\n",
    "\t\n",
    "where, \n",
    "### $$\\bar{x}^* = \\frac{\\sum_{i=0}^{n-1} y_ix_i}{\\sum_{i=0}^{n-1} x_i}$$ \n",
    "\n",
    "Design, implement, and test a program that satisfies the requirements below.\n",
    "\n",
    "-------------------\n",
    "## Requirements\n",
    "1. The program starts with two text files defined for you below that will be used in your program. The first file is a file $F_x$ containing a (finite) sequence $x_0, x_1, \\ldots, x_{n-1}$ of numbers, where each number represents the $x_i$ member of the sequence, in order.<br><br>\n",
    "\n",
    "2. The program reads in the values in $F_x$ and constructs a list $L_x$ of floats representing the sequence.<br><br>\n",
    "\n",
    "3. The program repeats the previous two requirements for a second file $F_y$ containing the corresponding $y_0, y_1, \\ldots, y_{n-1}$ values, and constructs a list $L_y$ of floats.<br><br>\n",
    "\n",
    "4. The program computes the biased, weighted mean deviation $\\sigma$ of $L_x$ and $L_y$. The program returns $\\sigma$, $L_x$ and $L_y$ as output.<br><br>\n",
    "\n",
    "5. Your name, MacID, student number, and the date are given in comments at the top of the first Python cell below.<br><br>\n",
    "\n",
    "6. Your answers to the design questions and test plan are given in the appropriate Markdown cells below.<br><br>\n",
    "\n",
    "7. Your program MUST have valid Python syntax and it must run without errors. Ensure that your program runs properly by running it before you submit.<br><br>\n",
    "\n",
    "8. You must sign out with a TA or IAI after you have submitted your lab at the submission station. Failure to do so could result in a mark of zero.\n",
    "------------------\n",
    "## Design and Implementation Instructions\n",
    "You may assume without penalty that there is exactly one number per line in the files $F_x$ and $F_y$ and that both files are the same length.\n",
    "\n",
    "------------------"
   ]
  },
  {
   "cell_type": "code",
   "execution_count": null,
   "metadata": {
    "collapsed": true,
    "nbgrader": {
     "grade": false,
     "grade_id": "test_text_files",
     "locked": true,
     "schema_version": 1,
     "solution": false
    }
   },
   "outputs": [],
   "source": [
    "# Code to generate sample text files for testing - DO NOT MODIFY THIS CODE\n",
    "infile1 = open(\"Fx.txt\", 'w')\n",
    "infile1.write(\"-19\\n-42\\n3\\n5\\n22\\n-7\\n-21\\n-33\\n-42\")\n",
    "infile1.close()\n",
    "\n",
    "infile1 = open(\"Fy.txt\", 'w')\n",
    "infile1.write(\"24\\n13\\n45\\n17\\n18\\n37\\n13\\n0\\n35\")\n",
    "infile1.close()\n",
    "\n",
    "infile1 = open(\"Fx2.txt\", 'w')\n",
    "infile1.write(\"-4.41\\n25.17\\n-29.20\\n-50.21\\n35.36\\n47.7\\n-11.43\\n-47.41\\n-19.6\\n31.30\\n-5.27\")\n",
    "infile1.close()\n",
    "\n",
    "infile1 = open(\"Fy2.txt\", 'w')\n",
    "infile1.write(\"56.70\\n21.58\\n32.66\\n65.55\\n8.58\\n48.19\\n60.14\\n80.54\\n38.60\\n100.82\\n64.30\")\n",
    "infile1.close()\n",
    "\n",
    "infile1 = open(\"Fx3.txt\", 'w')\n",
    "infile1.write(\"3.2\\n-4.56\\n2.3\\n\")\n",
    "infile1.close()\n",
    "\n",
    "infile1 = open(\"Fy3.txt\", 'w')\n",
    "infile1.write(\"1.01\\n6.3\\n0\\n\")\n",
    "infile1.close()"
   ]
  },
  {
   "cell_type": "code",
   "execution_count": null,
   "metadata": {
    "collapsed": true,
    "nbgrader": {
     "grade": false,
     "grade_id": "mean_deviation",
     "locked": false,
     "schema_version": 1,
     "solution": true
    }
   },
   "outputs": [],
   "source": [
    "#DO NOT PUT AN INPUT STATEMENT IN THIS CELL\n",
    "\n",
    "##################---mean_deviation(file1, file2) - (Lx: 2, Ly: 2, sigma: 6 Marks)---##################\n",
    "def mean_deviation(file1, file2):\n",
    "    \"\"\"This function calculates the biased, weighted mean deviation for the x values stored in file1 \n",
    "    and the y values stored in file2\"\"\"\n",
    "    # WRITE YOUR CODE BETWEEN HERE AND ...\n",
    "    \n",
    "    Lx = []     #change this value to your answer\n",
    "    Ly = []     #change this value to your answer\n",
    "    sigma = 0   #change this value to your answer\n",
    "    \n",
    "    # ... HERE\n",
    "    \n",
    "    \n",
    "    return Lx, Ly, sigma\n",
    "#Change the values \"Fx.txt\" and \"Fy.txt\" to test your code with different files\n",
    "result = mean_deviation(\"Fx.txt\", \"Fy.txt\")\n",
    "print(\"Lx =\", result[0])\n",
    "print(\"Ly =\", result[1])\n",
    "print(\"sigma =\", result[2])"
   ]
  },
  {
   "cell_type": "markdown",
   "metadata": {
    "nbgrader": {
     "grade": false,
     "grade_id": "cell-a5b8a6dfa5c4bd53",
     "locked": true,
     "schema_version": 1,
     "solution": false
    }
   },
   "source": [
    "## NOTE: \n",
    "Fx and Fy are a set meant to be used together, same as Fx2 and Fy2. When testing your program, test either Fx and Fy together or Fx2 and Fy2 together. DO NOT mix and match files (i.e test using Fx and Fy2, or Fx2 or Fy)."
   ]
  },
  {
   "cell_type": "code",
   "execution_count": null,
   "metadata": {
    "collapsed": true,
    "nbgrader": {
     "grade": true,
     "grade_id": "mean_deviation_tests",
     "locked": true,
     "points": 0,
     "schema_version": 1,
     "solution": false
    }
   },
   "outputs": [],
   "source": [
    "###########---TESTING CELL---#############\n",
    "\n",
    "#This cell would be used to test run your code and give you your autograded mark on the major\n",
    "\n",
    "'''\n",
    "Sample Input:\n",
    "\"Fx.txt\", \"Fy.txt\"\n",
    "\n",
    "Sample Output:\n",
    "Lx = [-19.0, -42.0, 3.0, 5.0, 22.0, -7.0, -21.0, -33.0, -42.0]\n",
    "Ly = [24.0, 13.0, 45.0, 17.0, 18.0, 37.0, 13.0, 0.0, 35.0]\n",
    "sigma = 35.85508712497159\n",
    "'''\n"
   ]
  },
  {
   "cell_type": "markdown",
   "metadata": {
    "nbgrader": {
     "grade": false,
     "grade_id": "cell-a5a9df3793bc515e",
     "locked": true,
     "schema_version": 1,
     "solution": false
    }
   },
   "source": [
    "## Code Legibility (3 Points)\n",
    "----------\n",
    "Your code will be marked on commenting and code legibility.<br>\n",
    "The mark breakdown is as follows:<br>\n",
    "1 mark for using appropriate variable names that indicate what is being stored in that variable<br>\n",
    "1 mark for leaving comments on major parts of your code such as where you read the file or calculate a summation<br>\n",
    "1 mark for general legibility. The TA's should be able to understand your code without spending hours reading it. For example do not put your code in one very long line as this is hard for someone else reading your code to understand\n",
    "\n",
    "<h6>Ignore the empty cell below. You do NOT need to type anything in it </h6>"
   ]
  },
  {
   "cell_type": "markdown",
   "metadata": {
    "nbgrader": {
     "grade": true,
     "grade_id": "cell-35d35c0248ff419c",
     "locked": false,
     "points": 3,
     "schema_version": 1,
     "solution": true
    }
   },
   "source": []
  },
  {
   "cell_type": "markdown",
   "metadata": {
    "nbgrader": {
     "grade": false,
     "grade_id": "major_2_v4_dq",
     "locked": true,
     "schema_version": 1,
     "solution": false
    }
   },
   "source": [
    "## Design Questions\n",
    "--------------\n",
    "1. What is the best way to compute the number of lines, words, and characters in a file: by reading the file once, or by reading the file three times?\n",
    "2. When printing to the screen, the syntax `print(\"x=\", x, \"\\n\")` and `print(\"x=\"+str(x)+\"\\n\")` are both valid. Is this true when using `file.write()`?\n",
    "3. Is it better if most of the test cases for your program are files containing many lines of text? Explain your answer\n",
    "4. What is the difference between `read()` and `readlines()`?\n",
    "\n",
    "Enter your answers into the Markdown cell below."
   ]
  },
  {
   "cell_type": "markdown",
   "metadata": {
    "nbgrader": {
     "grade": true,
     "grade_id": "major_2_v4_dq_answers",
     "locked": false,
     "points": 4,
     "schema_version": 1,
     "solution": true
    }
   },
   "source": [
    "<pre>\n",
    "Your Answer Here (DO NOT DELETE &lt;pre&gt; or &lt;/pre&gt;)\n",
    "</pre>"
   ]
  },
  {
   "cell_type": "markdown",
   "metadata": {
    "nbgrader": {
     "grade": false,
     "grade_id": "major_2_v4_test_plan",
     "locked": true,
     "schema_version": 1,
     "solution": false
    }
   },
   "source": [
    "## Testing Plan (3 Points)\n",
    "---------------\n",
    "Produce a test plan in the Markdown cell below, in the following form:\n",
    "\n",
    "`Test i\n",
    "Input: [file1, file2]\n",
    "Expected Output: [Lx, Ly, sigma]\n",
    "Actual Output: [Lx_a, Ly_a, sigma_a]\n",
    "Result: Pass/Fail\n",
    "`\n",
    "\n",
    "Note: The actual output should be what the program produces, even if your output does not match the expected output.\n",
    "\n",
    "You must have $NO$ $LESS$ $THAN$ $3$ $TEST$ $CASES$. Have at least 1 case where your program does not output an error. For the other cases, we encourage you to try and find test cases where your program would output an error (not mandatory, just recommended). That is, where the expected output is an error."
   ]
  },
  {
   "cell_type": "markdown",
   "metadata": {
    "nbgrader": {
     "grade": true,
     "grade_id": "major_2_v4_test_plan_answers",
     "locked": false,
     "points": 3,
     "schema_version": 1,
     "solution": true
    }
   },
   "source": [
    "<pre>\n",
    "Your Answer Here (DO NOT DELETE &lt;pre&gt; or &lt;/pre&gt;)\n",
    "</pre>"
   ]
  }
 ],
 "metadata": {
  "celltoolbar": "Create Assignment",
  "kernelspec": {
   "display_name": "Python 3",
   "language": "python",
   "name": "python3"
  },
  "language_info": {
   "codemirror_mode": {
    "name": "ipython",
    "version": 3
   },
   "file_extension": ".py",
   "mimetype": "text/x-python",
   "name": "python",
   "nbconvert_exporter": "python",
   "pygments_lexer": "ipython3",
   "version": "3.6.5"
  }
 },
 "nbformat": 4,
 "nbformat_minor": 2
}
